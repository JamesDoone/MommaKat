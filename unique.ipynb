{
 "cells": [
  {
   "cell_type": "code",
   "execution_count": 1,
   "metadata": {
    "collapsed": true
   },
   "outputs": [],
   "source": [
    "import pandas as pd"
   ]
  },
  {
   "cell_type": "code",
   "execution_count": 4,
   "metadata": {
    "collapsed": false
   },
   "outputs": [
    {
     "name": "stdout",
     "output_type": "stream",
     "text": [
      "/Users/jimdoone/Desktop/pandas_data_files\n"
     ]
    }
   ],
   "source": [
    "%cd pandas_data_files/"
   ]
  },
  {
   "cell_type": "code",
   "execution_count": 5,
   "metadata": {
    "collapsed": false
   },
   "outputs": [
    {
     "name": "stdout",
     "output_type": "stream",
     "text": [
      "50_Startups.csv                       employees.csv\r\n",
      "Baby_Names.xlsx                       foods.csv\r\n",
      "Data - Multiple Worksheets.xlsx       fortune1000.csv\r\n",
      "Data - Single Worksheet.xlsx          google_stock_price.csv\r\n",
      "Restaurant - Customers.csv            jamesbond.csv\r\n",
      "Restaurant - Foods.csv                nba.csv\r\n",
      "Restaurant - Week 1 Sales.csv         pokemon.csv\r\n",
      "Restaurant - Week 1 Satisfaction.csv  quarters.csv\r\n",
      "Restaurant - Week 2 Sales.csv         revenue.csv\r\n",
      "bigmac.csv                            salesmen.csv\r\n",
      "chicago.csv                           worldstats.csv\r\n",
      "ecommerce.csv\r\n"
     ]
    }
   ],
   "source": [
    "%ls"
   ]
  },
  {
   "cell_type": "code",
   "execution_count": 7,
   "metadata": {
    "collapsed": false
   },
   "outputs": [
    {
     "data": {
      "text/html": [
       "<div>\n",
       "<style>\n",
       "    .dataframe thead tr:only-child th {\n",
       "        text-align: right;\n",
       "    }\n",
       "\n",
       "    .dataframe thead th {\n",
       "        text-align: left;\n",
       "    }\n",
       "\n",
       "    .dataframe tbody tr th {\n",
       "        vertical-align: top;\n",
       "    }\n",
       "</style>\n",
       "<table border=\"1\" class=\"dataframe\">\n",
       "  <thead>\n",
       "    <tr style=\"text-align: right;\">\n",
       "      <th></th>\n",
       "      <th>First Name</th>\n",
       "      <th>Gender</th>\n",
       "      <th>Start Date</th>\n",
       "      <th>Last Login Time</th>\n",
       "      <th>Salary</th>\n",
       "      <th>Bonus %</th>\n",
       "      <th>Senior Management</th>\n",
       "      <th>Team</th>\n",
       "    </tr>\n",
       "  </thead>\n",
       "  <tbody>\n",
       "    <tr>\n",
       "      <th>0</th>\n",
       "      <td>Douglas</td>\n",
       "      <td>Male</td>\n",
       "      <td>8/6/1993</td>\n",
       "      <td>12:42 PM</td>\n",
       "      <td>97308</td>\n",
       "      <td>6.945</td>\n",
       "      <td>True</td>\n",
       "      <td>Marketing</td>\n",
       "    </tr>\n",
       "    <tr>\n",
       "      <th>1</th>\n",
       "      <td>Thomas</td>\n",
       "      <td>Male</td>\n",
       "      <td>3/31/1996</td>\n",
       "      <td>6:53 AM</td>\n",
       "      <td>61933</td>\n",
       "      <td>4.170</td>\n",
       "      <td>True</td>\n",
       "      <td>NaN</td>\n",
       "    </tr>\n",
       "    <tr>\n",
       "      <th>2</th>\n",
       "      <td>Maria</td>\n",
       "      <td>Female</td>\n",
       "      <td>4/23/1993</td>\n",
       "      <td>11:17 AM</td>\n",
       "      <td>130590</td>\n",
       "      <td>11.858</td>\n",
       "      <td>False</td>\n",
       "      <td>Finance</td>\n",
       "    </tr>\n",
       "    <tr>\n",
       "      <th>3</th>\n",
       "      <td>Jerry</td>\n",
       "      <td>Male</td>\n",
       "      <td>3/4/2005</td>\n",
       "      <td>1:00 PM</td>\n",
       "      <td>138705</td>\n",
       "      <td>9.340</td>\n",
       "      <td>True</td>\n",
       "      <td>Finance</td>\n",
       "    </tr>\n",
       "    <tr>\n",
       "      <th>4</th>\n",
       "      <td>Larry</td>\n",
       "      <td>Male</td>\n",
       "      <td>1/24/1998</td>\n",
       "      <td>4:47 PM</td>\n",
       "      <td>101004</td>\n",
       "      <td>1.389</td>\n",
       "      <td>True</td>\n",
       "      <td>Client Services</td>\n",
       "    </tr>\n",
       "  </tbody>\n",
       "</table>\n",
       "</div>"
      ],
      "text/plain": [
       "  First Name  Gender Start Date Last Login Time  Salary  Bonus %  \\\n",
       "0    Douglas    Male   8/6/1993        12:42 PM   97308    6.945   \n",
       "1     Thomas    Male  3/31/1996         6:53 AM   61933    4.170   \n",
       "2      Maria  Female  4/23/1993        11:17 AM  130590   11.858   \n",
       "3      Jerry    Male   3/4/2005         1:00 PM  138705    9.340   \n",
       "4      Larry    Male  1/24/1998         4:47 PM  101004    1.389   \n",
       "\n",
       "  Senior Management             Team  \n",
       "0              True        Marketing  \n",
       "1              True              NaN  \n",
       "2             False          Finance  \n",
       "3              True          Finance  \n",
       "4              True  Client Services  "
      ]
     },
     "execution_count": 7,
     "metadata": {},
     "output_type": "execute_result"
    }
   ],
   "source": [
    "df = pd.read_csv('employees.csv')\n",
    "df.head()"
   ]
  },
  {
   "cell_type": "code",
   "execution_count": 9,
   "metadata": {
    "collapsed": false
   },
   "outputs": [
    {
     "data": {
      "text/plain": [
       "array(['Douglas', 'Thomas', 'Maria', 'Jerry', 'Larry', 'Dennis', 'Ruby',\n",
       "       nan, 'Angela', 'Frances', 'Louise', 'Julie', 'Brandon', 'Gary',\n",
       "       'Kimberly', 'Lillian', 'Jeremy', 'Shawn', 'Diana', 'Donna', 'Lois',\n",
       "       'Matthew', 'Joshua', 'John', 'Craig', 'Scott', 'Terry', 'Benjamin',\n",
       "       'Christina', 'Joyce', 'Jean', 'Theresa', 'Rachel', 'Linda',\n",
       "       'Stephanie', 'Michael', 'Christine', 'Beverly', 'Marilyn',\n",
       "       'Cynthia', 'Roger', 'Bruce', 'Kathy', 'Clarence', 'Chris', 'Nancy',\n",
       "       'Todd', 'Alan', 'Sara', 'Karen', 'Carl', 'Henry', 'Irene', 'Paula',\n",
       "       'Denise', 'Kathleen', 'Steve', 'Jose', 'Johnny', 'Bobby', 'Bonnie',\n",
       "       'Margaret', 'Charles', 'Robin', 'Gerald', 'Christopher', 'Steven',\n",
       "       'Doris', 'Annie', 'Janice', 'James', 'Virginia', 'Harry', 'Heather',\n",
       "       'Laura', 'Tina', 'Harold', 'Melissa', 'Aaron', 'Jack', 'Phyllis',\n",
       "       'Paul', 'Russell', 'Shirley', 'Willie', 'Ashley', 'Pamela',\n",
       "       'Andrea', 'Peter', 'Helen', 'Patricia', 'Michelle', 'William',\n",
       "       'Kenneth', 'Antonio', 'Rebecca', 'Carlos', 'Carolyn', 'Gloria',\n",
       "       'Adam', 'Elizabeth', 'Teresa', 'Nicole', 'Jennifer', 'Philip',\n",
       "       'Patrick', 'Sean', 'Ruth', 'Victor', 'Marie', 'Howard', 'Norma',\n",
       "       'Arthur', 'Mary', 'Wayne', 'Jane', 'Jessica', 'Mark', 'Randy',\n",
       "       'Sandra', 'Carol', 'Barbara', 'Ronald', 'Jonathan', 'Katherine',\n",
       "       'Emily', 'Lisa', 'Evelyn', 'Gregory', 'Billy', 'Jason', 'Daniel',\n",
       "       'Sarah', 'George', 'Diane', 'Kathryn', 'Cheryl', 'Kevin', 'Walter',\n",
       "       'Robert', 'Jimmy', 'Fred', 'Brenda', 'Justin', 'Betty', 'Sharon',\n",
       "       'Ralph', 'Edward', 'Debra', 'Anne', 'Roy', 'Frank', 'Nicholas',\n",
       "       'Judy', 'Tammy', 'Jesse', 'Joan', 'Ernest', 'Jacqueline', 'Jeffrey',\n",
       "       'Samuel', 'Earl', 'Richard', 'Lori', 'Susan', 'Juan', 'Albert',\n",
       "       'Stephen', 'Rose', 'Joe', 'Julia', 'Dorothy', 'Deborah', 'Alice',\n",
       "       'Wanda', 'Lawrence', 'Amy', 'Ryan', 'Judith', 'Eugene', 'Donald',\n",
       "       'Ann', 'Raymond', 'Catherine', 'Amanda', 'Anna', 'Joseph', 'Andrew',\n",
       "       'Kelly', 'Louis', 'Mildred', 'Eric', 'Timothy', 'Anthony', 'Martha',\n",
       "       'Brian', 'Martin', 'Janet', 'Keith', 'Phillip', 'David'], dtype=object)"
      ]
     },
     "execution_count": 9,
     "metadata": {},
     "output_type": "execute_result"
    }
   ],
   "source": [
    "df['First Name'].unique()"
   ]
  },
  {
   "cell_type": "markdown",
   "metadata": {},
   "source": [
    "##### Pass the unique column in the len column"
   ]
  },
  {
   "cell_type": "code",
   "execution_count": 11,
   "metadata": {
    "collapsed": false
   },
   "outputs": [
    {
     "data": {
      "text/plain": [
       "201"
      ]
     },
     "execution_count": 11,
     "metadata": {},
     "output_type": "execute_result"
    }
   ],
   "source": [
    "len(df['First Name'].unique())"
   ]
  },
  {
   "cell_type": "code",
   "execution_count": 10,
   "metadata": {
    "collapsed": false
   },
   "outputs": [
    {
     "data": {
      "text/plain": [
       "array(['Marketing', nan, 'Finance', 'Client Services', 'Legal', 'Product',\n",
       "       'Engineering', 'Business Development', 'Human Resources', 'Sales',\n",
       "       'Distribution'], dtype=object)"
      ]
     },
     "execution_count": 10,
     "metadata": {},
     "output_type": "execute_result"
    }
   ],
   "source": [
    "df['Team'].unique()"
   ]
  },
  {
   "cell_type": "markdown",
   "metadata": {},
   "source": [
    "##### nunique() returns the number of unique values\n",
    "- nunique does not include NaN values in its opertion\n",
    "- to include NaN values, change the default parameter: dropna = False"
   ]
  },
  {
   "cell_type": "code",
   "execution_count": 12,
   "metadata": {
    "collapsed": false
   },
   "outputs": [
    {
     "data": {
      "text/plain": [
       "10"
      ]
     },
     "execution_count": 12,
     "metadata": {},
     "output_type": "execute_result"
    }
   ],
   "source": [
    "df['Team'].nunique()"
   ]
  },
  {
   "cell_type": "code",
   "execution_count": null,
   "metadata": {
    "collapsed": true
   },
   "outputs": [],
   "source": []
  }
 ],
 "metadata": {
  "kernelspec": {
   "display_name": "Python 3",
   "language": "python",
   "name": "python3"
  },
  "language_info": {
   "codemirror_mode": {
    "name": "ipython",
    "version": 3
   },
   "file_extension": ".py",
   "mimetype": "text/x-python",
   "name": "python",
   "nbconvert_exporter": "python",
   "pygments_lexer": "ipython3",
   "version": "3.6.1"
  }
 },
 "nbformat": 4,
 "nbformat_minor": 2
}
