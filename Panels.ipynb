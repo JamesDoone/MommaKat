{
 "cells": [
  {
   "cell_type": "code",
   "execution_count": 1,
   "metadata": {
    "collapsed": true
   },
   "outputs": [],
   "source": [
    "import pandas as pd\n",
    "from pandas_datareader import data as wb"
   ]
  },
  {
   "cell_type": "code",
   "execution_count": 3,
   "metadata": {
    "collapsed": false
   },
   "outputs": [],
   "source": [
    "stocks = [\"MSFT\", \"GOOG\", \"AAPL\", \"YHOO\", \"AMZN\"]\n",
    "start = \"2010-01-01\"\n",
    "end = \"2016-12-31\"\n",
    "mydata = pd.DataFrame()\n",
    "for stock in stocks:\n",
    "    mydata[stock] = wb.DataReader(stock, 'google', start=start, end=end)['Close']\n"
   ]
  },
  {
   "cell_type": "code",
   "execution_count": 5,
   "metadata": {
    "collapsed": false
   },
   "outputs": [
    {
     "data": {
      "text/html": [
       "<div>\n",
       "<table border=\"1\" class=\"dataframe\">\n",
       "  <thead>\n",
       "    <tr style=\"text-align: right;\">\n",
       "      <th></th>\n",
       "      <th>MSFT</th>\n",
       "      <th>GOOG</th>\n",
       "      <th>AAPL</th>\n",
       "      <th>YHOO</th>\n",
       "      <th>AMZN</th>\n",
       "    </tr>\n",
       "    <tr>\n",
       "      <th>Date</th>\n",
       "      <th></th>\n",
       "      <th></th>\n",
       "      <th></th>\n",
       "      <th></th>\n",
       "      <th></th>\n",
       "    </tr>\n",
       "  </thead>\n",
       "  <tbody>\n",
       "    <tr>\n",
       "      <th>2010-01-04</th>\n",
       "      <td>30.95</td>\n",
       "      <td>313.06</td>\n",
       "      <td>30.57</td>\n",
       "      <td>17.10</td>\n",
       "      <td>133.90</td>\n",
       "    </tr>\n",
       "    <tr>\n",
       "      <th>2010-01-05</th>\n",
       "      <td>30.96</td>\n",
       "      <td>311.68</td>\n",
       "      <td>30.63</td>\n",
       "      <td>17.23</td>\n",
       "      <td>134.69</td>\n",
       "    </tr>\n",
       "    <tr>\n",
       "      <th>2010-01-06</th>\n",
       "      <td>30.77</td>\n",
       "      <td>303.83</td>\n",
       "      <td>30.14</td>\n",
       "      <td>17.17</td>\n",
       "      <td>132.25</td>\n",
       "    </tr>\n",
       "    <tr>\n",
       "      <th>2010-01-07</th>\n",
       "      <td>30.45</td>\n",
       "      <td>296.75</td>\n",
       "      <td>30.08</td>\n",
       "      <td>16.70</td>\n",
       "      <td>130.00</td>\n",
       "    </tr>\n",
       "    <tr>\n",
       "      <th>2010-01-08</th>\n",
       "      <td>30.66</td>\n",
       "      <td>300.71</td>\n",
       "      <td>30.28</td>\n",
       "      <td>16.70</td>\n",
       "      <td>133.52</td>\n",
       "    </tr>\n",
       "  </tbody>\n",
       "</table>\n",
       "</div>"
      ],
      "text/plain": [
       "             MSFT    GOOG   AAPL   YHOO    AMZN\n",
       "Date                                           \n",
       "2010-01-04  30.95  313.06  30.57  17.10  133.90\n",
       "2010-01-05  30.96  311.68  30.63  17.23  134.69\n",
       "2010-01-06  30.77  303.83  30.14  17.17  132.25\n",
       "2010-01-07  30.45  296.75  30.08  16.70  130.00\n",
       "2010-01-08  30.66  300.71  30.28  16.70  133.52"
      ]
     },
     "execution_count": 5,
     "metadata": {},
     "output_type": "execute_result"
    }
   ],
   "source": [
    "mydata.head()"
   ]
  },
  {
   "cell_type": "code",
   "execution_count": 7,
   "metadata": {
    "collapsed": false
   },
   "outputs": [
    {
     "data": {
      "text/plain": [
       "<class 'pandas.core.panel.Panel'>\n",
       "Dimensions: 5 (items) x 1761 (major_axis) x 5 (minor_axis)\n",
       "Items axis: Open to Volume\n",
       "Major_axis axis: 2010-01-04 00:00:00 to 2016-12-30 00:00:00\n",
       "Minor_axis axis: AAPL to YHOO"
      ]
     },
     "execution_count": 7,
     "metadata": {},
     "output_type": "execute_result"
    }
   ],
   "source": [
    "companies = [\"MSFT\", \"GOOG\", \"AAPL\", \"YHOO\", \"AMZN\"]\n",
    "panel = wb.DataReader(name=companies, data_source='google', start=start, end=end)\n",
    "panel"
   ]
  },
  {
   "cell_type": "markdown",
   "metadata": {},
   "source": [
    "### the first dimension \n",
    "- items"
   ]
  },
  {
   "cell_type": "code",
   "execution_count": 8,
   "metadata": {
    "collapsed": false
   },
   "outputs": [
    {
     "data": {
      "text/plain": [
       "Index(['Open', 'High', 'Low', 'Close', 'Volume'], dtype='object')"
      ]
     },
     "execution_count": 8,
     "metadata": {},
     "output_type": "execute_result"
    }
   ],
   "source": [
    "panel.items"
   ]
  },
  {
   "cell_type": "markdown",
   "metadata": {},
   "source": [
    "### The 2nd dimension"
   ]
  },
  {
   "cell_type": "code",
   "execution_count": 9,
   "metadata": {
    "collapsed": false
   },
   "outputs": [
    {
     "data": {
      "text/plain": [
       "DatetimeIndex(['2010-01-04', '2010-01-05', '2010-01-06', '2010-01-07',\n",
       "               '2010-01-08', '2010-01-11', '2010-01-12', '2010-01-13',\n",
       "               '2010-01-14', '2010-01-15',\n",
       "               ...\n",
       "               '2016-12-16', '2016-12-19', '2016-12-20', '2016-12-21',\n",
       "               '2016-12-22', '2016-12-23', '2016-12-27', '2016-12-28',\n",
       "               '2016-12-29', '2016-12-30'],\n",
       "              dtype='datetime64[ns]', name='Date', length=1761, freq=None)"
      ]
     },
     "execution_count": 9,
     "metadata": {},
     "output_type": "execute_result"
    }
   ],
   "source": [
    "panel.major_axis"
   ]
  },
  {
   "cell_type": "markdown",
   "metadata": {},
   "source": [
    "### The 3rd dimension"
   ]
  },
  {
   "cell_type": "code",
   "execution_count": 10,
   "metadata": {
    "collapsed": false
   },
   "outputs": [
    {
     "data": {
      "text/plain": [
       "Index(['AAPL', 'AMZN', 'GOOG', 'MSFT', 'YHOO'], dtype='object')"
      ]
     },
     "execution_count": 10,
     "metadata": {},
     "output_type": "execute_result"
    }
   ],
   "source": [
    "panel.minor_axis"
   ]
  },
  {
   "cell_type": "markdown",
   "metadata": {},
   "source": [
    "### Axes"
   ]
  },
  {
   "cell_type": "code",
   "execution_count": 11,
   "metadata": {
    "collapsed": false
   },
   "outputs": [
    {
     "data": {
      "text/plain": [
       "[Index(['Open', 'High', 'Low', 'Close', 'Volume'], dtype='object'),\n",
       " DatetimeIndex(['2010-01-04', '2010-01-05', '2010-01-06', '2010-01-07',\n",
       "                '2010-01-08', '2010-01-11', '2010-01-12', '2010-01-13',\n",
       "                '2010-01-14', '2010-01-15',\n",
       "                ...\n",
       "                '2016-12-16', '2016-12-19', '2016-12-20', '2016-12-21',\n",
       "                '2016-12-22', '2016-12-23', '2016-12-27', '2016-12-28',\n",
       "                '2016-12-29', '2016-12-30'],\n",
       "               dtype='datetime64[ns]', name='Date', length=1761, freq=None),\n",
       " Index(['AAPL', 'AMZN', 'GOOG', 'MSFT', 'YHOO'], dtype='object')]"
      ]
     },
     "execution_count": 11,
     "metadata": {},
     "output_type": "execute_result"
    }
   ],
   "source": [
    "panel.axes"
   ]
  },
  {
   "cell_type": "code",
   "execution_count": 12,
   "metadata": {
    "collapsed": false
   },
   "outputs": [
    {
     "data": {
      "text/plain": [
       "3"
      ]
     },
     "execution_count": 12,
     "metadata": {},
     "output_type": "execute_result"
    }
   ],
   "source": [
    "panel.ndim"
   ]
  },
  {
   "cell_type": "code",
   "execution_count": 13,
   "metadata": {
    "collapsed": false
   },
   "outputs": [
    {
     "data": {
      "text/plain": [
       "Open      float64\n",
       "High      float64\n",
       "Low       float64\n",
       "Close     float64\n",
       "Volume    float64\n",
       "dtype: object"
      ]
     },
     "execution_count": 13,
     "metadata": {},
     "output_type": "execute_result"
    }
   ],
   "source": [
    "panel.dtypes"
   ]
  },
  {
   "cell_type": "code",
   "execution_count": 15,
   "metadata": {
    "collapsed": false
   },
   "outputs": [
    {
     "data": {
      "text/plain": [
       "(5, 1761, 5)"
      ]
     },
     "execution_count": 15,
     "metadata": {},
     "output_type": "execute_result"
    }
   ],
   "source": [
    "panel.shape\n"
   ]
  },
  {
   "cell_type": "code",
   "execution_count": 17,
   "metadata": {
    "collapsed": false
   },
   "outputs": [
    {
     "data": {
      "text/html": [
       "<div>\n",
       "<table border=\"1\" class=\"dataframe\">\n",
       "  <thead>\n",
       "    <tr style=\"text-align: right;\">\n",
       "      <th></th>\n",
       "      <th>AAPL</th>\n",
       "      <th>AMZN</th>\n",
       "      <th>GOOG</th>\n",
       "      <th>MSFT</th>\n",
       "      <th>YHOO</th>\n",
       "    </tr>\n",
       "    <tr>\n",
       "      <th>Date</th>\n",
       "      <th></th>\n",
       "      <th></th>\n",
       "      <th></th>\n",
       "      <th></th>\n",
       "      <th></th>\n",
       "    </tr>\n",
       "  </thead>\n",
       "  <tbody>\n",
       "    <tr>\n",
       "      <th>2010-01-04</th>\n",
       "      <td>30.49</td>\n",
       "      <td>136.25</td>\n",
       "      <td>313.16</td>\n",
       "      <td>30.62</td>\n",
       "      <td>16.94</td>\n",
       "    </tr>\n",
       "    <tr>\n",
       "      <th>2010-01-05</th>\n",
       "      <td>30.66</td>\n",
       "      <td>133.43</td>\n",
       "      <td>313.28</td>\n",
       "      <td>30.85</td>\n",
       "      <td>17.22</td>\n",
       "    </tr>\n",
       "    <tr>\n",
       "      <th>2010-01-06</th>\n",
       "      <td>30.63</td>\n",
       "      <td>134.60</td>\n",
       "      <td>312.62</td>\n",
       "      <td>30.88</td>\n",
       "      <td>17.17</td>\n",
       "    </tr>\n",
       "    <tr>\n",
       "      <th>2010-01-07</th>\n",
       "      <td>30.25</td>\n",
       "      <td>132.01</td>\n",
       "      <td>304.40</td>\n",
       "      <td>30.63</td>\n",
       "      <td>16.81</td>\n",
       "    </tr>\n",
       "    <tr>\n",
       "      <th>2010-01-08</th>\n",
       "      <td>30.04</td>\n",
       "      <td>130.56</td>\n",
       "      <td>295.70</td>\n",
       "      <td>30.28</td>\n",
       "      <td>16.68</td>\n",
       "    </tr>\n",
       "  </tbody>\n",
       "</table>\n",
       "</div>"
      ],
      "text/plain": [
       "             AAPL    AMZN    GOOG   MSFT   YHOO\n",
       "Date                                           \n",
       "2010-01-04  30.49  136.25  313.16  30.62  16.94\n",
       "2010-01-05  30.66  133.43  313.28  30.85  17.22\n",
       "2010-01-06  30.63  134.60  312.62  30.88  17.17\n",
       "2010-01-07  30.25  132.01  304.40  30.63  16.81\n",
       "2010-01-08  30.04  130.56  295.70  30.28  16.68"
      ]
     },
     "execution_count": 17,
     "metadata": {},
     "output_type": "execute_result"
    }
   ],
   "source": [
    "panel['Open'].head()"
   ]
  },
  {
   "cell_type": "code",
   "execution_count": 26,
   "metadata": {
    "collapsed": false
   },
   "outputs": [
    {
     "data": {
      "text/plain": [
       "752.0"
      ]
     },
     "execution_count": 26,
     "metadata": {},
     "output_type": "execute_result"
    }
   ],
   "source": [
    "panel.loc['Close', '2016-02-01','GOOG']"
   ]
  },
  {
   "cell_type": "markdown",
   "metadata": {},
   "source": [
    "### Convert panel to dataframe\n",
    "- items: columns\n",
    "- Major and minor axis: index"
   ]
  },
  {
   "cell_type": "code",
   "execution_count": 29,
   "metadata": {
    "collapsed": false
   },
   "outputs": [
    {
     "data": {
      "text/html": [
       "<div>\n",
       "<table border=\"1\" class=\"dataframe\">\n",
       "  <thead>\n",
       "    <tr style=\"text-align: right;\">\n",
       "      <th></th>\n",
       "      <th></th>\n",
       "      <th>Open</th>\n",
       "      <th>High</th>\n",
       "      <th>Low</th>\n",
       "      <th>Close</th>\n",
       "      <th>Volume</th>\n",
       "    </tr>\n",
       "    <tr>\n",
       "      <th>Date</th>\n",
       "      <th>minor</th>\n",
       "      <th></th>\n",
       "      <th></th>\n",
       "      <th></th>\n",
       "      <th></th>\n",
       "      <th></th>\n",
       "    </tr>\n",
       "  </thead>\n",
       "  <tbody>\n",
       "    <tr>\n",
       "      <th rowspan=\"4\" valign=\"top\">2010-01-04</th>\n",
       "      <th>AAPL</th>\n",
       "      <td>30.49</td>\n",
       "      <td>30.64</td>\n",
       "      <td>30.34</td>\n",
       "      <td>30.57</td>\n",
       "      <td>123432050.0</td>\n",
       "    </tr>\n",
       "    <tr>\n",
       "      <th>AMZN</th>\n",
       "      <td>136.25</td>\n",
       "      <td>136.61</td>\n",
       "      <td>133.14</td>\n",
       "      <td>133.90</td>\n",
       "      <td>7600543.0</td>\n",
       "    </tr>\n",
       "    <tr>\n",
       "      <th>MSFT</th>\n",
       "      <td>30.62</td>\n",
       "      <td>31.10</td>\n",
       "      <td>30.59</td>\n",
       "      <td>30.95</td>\n",
       "      <td>38414185.0</td>\n",
       "    </tr>\n",
       "    <tr>\n",
       "      <th>YHOO</th>\n",
       "      <td>16.94</td>\n",
       "      <td>17.20</td>\n",
       "      <td>16.88</td>\n",
       "      <td>17.10</td>\n",
       "      <td>16588957.0</td>\n",
       "    </tr>\n",
       "    <tr>\n",
       "      <th rowspan=\"4\" valign=\"top\">2010-01-05</th>\n",
       "      <th>AAPL</th>\n",
       "      <td>30.66</td>\n",
       "      <td>30.80</td>\n",
       "      <td>30.46</td>\n",
       "      <td>30.63</td>\n",
       "      <td>150476004.0</td>\n",
       "    </tr>\n",
       "    <tr>\n",
       "      <th>AMZN</th>\n",
       "      <td>133.43</td>\n",
       "      <td>135.48</td>\n",
       "      <td>131.81</td>\n",
       "      <td>134.69</td>\n",
       "      <td>8856456.0</td>\n",
       "    </tr>\n",
       "    <tr>\n",
       "      <th>MSFT</th>\n",
       "      <td>30.85</td>\n",
       "      <td>31.10</td>\n",
       "      <td>30.64</td>\n",
       "      <td>30.96</td>\n",
       "      <td>49758862.0</td>\n",
       "    </tr>\n",
       "    <tr>\n",
       "      <th>YHOO</th>\n",
       "      <td>17.22</td>\n",
       "      <td>17.23</td>\n",
       "      <td>17.00</td>\n",
       "      <td>17.23</td>\n",
       "      <td>11718126.0</td>\n",
       "    </tr>\n",
       "    <tr>\n",
       "      <th rowspan=\"2\" valign=\"top\">2010-01-06</th>\n",
       "      <th>AAPL</th>\n",
       "      <td>30.63</td>\n",
       "      <td>30.75</td>\n",
       "      <td>30.11</td>\n",
       "      <td>30.14</td>\n",
       "      <td>138039594.0</td>\n",
       "    </tr>\n",
       "    <tr>\n",
       "      <th>AMZN</th>\n",
       "      <td>134.60</td>\n",
       "      <td>134.73</td>\n",
       "      <td>131.65</td>\n",
       "      <td>132.25</td>\n",
       "      <td>7180977.0</td>\n",
       "    </tr>\n",
       "  </tbody>\n",
       "</table>\n",
       "</div>"
      ],
      "text/plain": [
       "                    Open    High     Low   Close       Volume\n",
       "Date       minor                                             \n",
       "2010-01-04 AAPL    30.49   30.64   30.34   30.57  123432050.0\n",
       "           AMZN   136.25  136.61  133.14  133.90    7600543.0\n",
       "           MSFT    30.62   31.10   30.59   30.95   38414185.0\n",
       "           YHOO    16.94   17.20   16.88   17.10   16588957.0\n",
       "2010-01-05 AAPL    30.66   30.80   30.46   30.63  150476004.0\n",
       "           AMZN   133.43  135.48  131.81  134.69    8856456.0\n",
       "           MSFT    30.85   31.10   30.64   30.96   49758862.0\n",
       "           YHOO    17.22   17.23   17.00   17.23   11718126.0\n",
       "2010-01-06 AAPL    30.63   30.75   30.11   30.14  138039594.0\n",
       "           AMZN   134.60  134.73  131.65  132.25    7180977.0"
      ]
     },
     "execution_count": 29,
     "metadata": {},
     "output_type": "execute_result"
    }
   ],
   "source": [
    "df = panel.to_frame()\n",
    "df.head(10)"
   ]
  },
  {
   "cell_type": "markdown",
   "metadata": {},
   "source": [
    "### Major_xs conversion of the panel"
   ]
  },
  {
   "cell_type": "code",
   "execution_count": 31,
   "metadata": {
    "collapsed": false
   },
   "outputs": [
    {
     "data": {
      "text/html": [
       "<div>\n",
       "<table border=\"1\" class=\"dataframe\">\n",
       "  <thead>\n",
       "    <tr style=\"text-align: right;\">\n",
       "      <th></th>\n",
       "      <th>Open</th>\n",
       "      <th>High</th>\n",
       "      <th>Low</th>\n",
       "      <th>Close</th>\n",
       "      <th>Volume</th>\n",
       "    </tr>\n",
       "  </thead>\n",
       "  <tbody>\n",
       "    <tr>\n",
       "      <th>AAPL</th>\n",
       "      <td>65.49</td>\n",
       "      <td>65.57</td>\n",
       "      <td>65.08</td>\n",
       "      <td>65.17</td>\n",
       "      <td>67510562.0</td>\n",
       "    </tr>\n",
       "    <tr>\n",
       "      <th>AMZN</th>\n",
       "      <td>173.81</td>\n",
       "      <td>179.95</td>\n",
       "      <td>172.00</td>\n",
       "      <td>179.46</td>\n",
       "      <td>21341033.0</td>\n",
       "    </tr>\n",
       "    <tr>\n",
       "      <th>GOOG</th>\n",
       "      <td>292.18</td>\n",
       "      <td>292.46</td>\n",
       "      <td>289.28</td>\n",
       "      <td>290.12</td>\n",
       "      <td>NaN</td>\n",
       "    </tr>\n",
       "    <tr>\n",
       "      <th>MSFT</th>\n",
       "      <td>29.79</td>\n",
       "      <td>30.05</td>\n",
       "      <td>29.76</td>\n",
       "      <td>29.89</td>\n",
       "      <td>67413817.0</td>\n",
       "    </tr>\n",
       "    <tr>\n",
       "      <th>YHOO</th>\n",
       "      <td>15.57</td>\n",
       "      <td>15.80</td>\n",
       "      <td>15.53</td>\n",
       "      <td>15.73</td>\n",
       "      <td>13223197.0</td>\n",
       "    </tr>\n",
       "  </tbody>\n",
       "</table>\n",
       "</div>"
      ],
      "text/plain": [
       "        Open    High     Low   Close      Volume\n",
       "AAPL   65.49   65.57   65.08   65.17  67510562.0\n",
       "AMZN  173.81  179.95  172.00  179.46  21341033.0\n",
       "GOOG  292.18  292.46  289.28  290.12         NaN\n",
       "MSFT   29.79   30.05   29.76   29.89  67413817.0\n",
       "YHOO   15.57   15.80   15.53   15.73  13223197.0"
      ]
     },
     "execution_count": 31,
     "metadata": {},
     "output_type": "execute_result"
    }
   ],
   "source": [
    "panel.major_xs('2012-02-01')"
   ]
  },
  {
   "cell_type": "markdown",
   "metadata": {},
   "source": [
    "### Minor_xs method"
   ]
  },
  {
   "cell_type": "code",
   "execution_count": 33,
   "metadata": {
    "collapsed": false
   },
   "outputs": [
    {
     "data": {
      "text/html": [
       "<div>\n",
       "<table border=\"1\" class=\"dataframe\">\n",
       "  <thead>\n",
       "    <tr style=\"text-align: right;\">\n",
       "      <th></th>\n",
       "      <th>Open</th>\n",
       "      <th>High</th>\n",
       "      <th>Low</th>\n",
       "      <th>Close</th>\n",
       "      <th>Volume</th>\n",
       "    </tr>\n",
       "    <tr>\n",
       "      <th>Date</th>\n",
       "      <th></th>\n",
       "      <th></th>\n",
       "      <th></th>\n",
       "      <th></th>\n",
       "      <th></th>\n",
       "    </tr>\n",
       "  </thead>\n",
       "  <tbody>\n",
       "    <tr>\n",
       "      <th>2010-01-04</th>\n",
       "      <td>136.25</td>\n",
       "      <td>136.61</td>\n",
       "      <td>133.14</td>\n",
       "      <td>133.90</td>\n",
       "      <td>7600543.0</td>\n",
       "    </tr>\n",
       "    <tr>\n",
       "      <th>2010-01-05</th>\n",
       "      <td>133.43</td>\n",
       "      <td>135.48</td>\n",
       "      <td>131.81</td>\n",
       "      <td>134.69</td>\n",
       "      <td>8856456.0</td>\n",
       "    </tr>\n",
       "    <tr>\n",
       "      <th>2010-01-06</th>\n",
       "      <td>134.60</td>\n",
       "      <td>134.73</td>\n",
       "      <td>131.65</td>\n",
       "      <td>132.25</td>\n",
       "      <td>7180977.0</td>\n",
       "    </tr>\n",
       "    <tr>\n",
       "      <th>2010-01-07</th>\n",
       "      <td>132.01</td>\n",
       "      <td>132.32</td>\n",
       "      <td>128.80</td>\n",
       "      <td>130.00</td>\n",
       "      <td>11030124.0</td>\n",
       "    </tr>\n",
       "    <tr>\n",
       "      <th>2010-01-08</th>\n",
       "      <td>130.56</td>\n",
       "      <td>133.68</td>\n",
       "      <td>129.03</td>\n",
       "      <td>133.52</td>\n",
       "      <td>9833829.0</td>\n",
       "    </tr>\n",
       "  </tbody>\n",
       "</table>\n",
       "</div>"
      ],
      "text/plain": [
       "              Open    High     Low   Close      Volume\n",
       "Date                                                  \n",
       "2010-01-04  136.25  136.61  133.14  133.90   7600543.0\n",
       "2010-01-05  133.43  135.48  131.81  134.69   8856456.0\n",
       "2010-01-06  134.60  134.73  131.65  132.25   7180977.0\n",
       "2010-01-07  132.01  132.32  128.80  130.00  11030124.0\n",
       "2010-01-08  130.56  133.68  129.03  133.52   9833829.0"
      ]
     },
     "execution_count": 33,
     "metadata": {},
     "output_type": "execute_result"
    }
   ],
   "source": [
    "panel.minor_xs('AMZN').head()"
   ]
  },
  {
   "cell_type": "markdown",
   "metadata": {},
   "source": [
    "### Item axis: use the bracket"
   ]
  },
  {
   "cell_type": "code",
   "execution_count": 36,
   "metadata": {
    "collapsed": false
   },
   "outputs": [
    {
     "data": {
      "text/html": [
       "<div>\n",
       "<table border=\"1\" class=\"dataframe\">\n",
       "  <thead>\n",
       "    <tr style=\"text-align: right;\">\n",
       "      <th></th>\n",
       "      <th>AAPL</th>\n",
       "      <th>AMZN</th>\n",
       "      <th>GOOG</th>\n",
       "      <th>MSFT</th>\n",
       "      <th>YHOO</th>\n",
       "    </tr>\n",
       "    <tr>\n",
       "      <th>Date</th>\n",
       "      <th></th>\n",
       "      <th></th>\n",
       "      <th></th>\n",
       "      <th></th>\n",
       "      <th></th>\n",
       "    </tr>\n",
       "  </thead>\n",
       "  <tbody>\n",
       "    <tr>\n",
       "      <th>2010-01-04</th>\n",
       "      <td>30.49</td>\n",
       "      <td>136.25</td>\n",
       "      <td>313.16</td>\n",
       "      <td>30.62</td>\n",
       "      <td>16.94</td>\n",
       "    </tr>\n",
       "    <tr>\n",
       "      <th>2010-01-05</th>\n",
       "      <td>30.66</td>\n",
       "      <td>133.43</td>\n",
       "      <td>313.28</td>\n",
       "      <td>30.85</td>\n",
       "      <td>17.22</td>\n",
       "    </tr>\n",
       "    <tr>\n",
       "      <th>2010-01-06</th>\n",
       "      <td>30.63</td>\n",
       "      <td>134.60</td>\n",
       "      <td>312.62</td>\n",
       "      <td>30.88</td>\n",
       "      <td>17.17</td>\n",
       "    </tr>\n",
       "    <tr>\n",
       "      <th>2010-01-07</th>\n",
       "      <td>30.25</td>\n",
       "      <td>132.01</td>\n",
       "      <td>304.40</td>\n",
       "      <td>30.63</td>\n",
       "      <td>16.81</td>\n",
       "    </tr>\n",
       "    <tr>\n",
       "      <th>2010-01-08</th>\n",
       "      <td>30.04</td>\n",
       "      <td>130.56</td>\n",
       "      <td>295.70</td>\n",
       "      <td>30.28</td>\n",
       "      <td>16.68</td>\n",
       "    </tr>\n",
       "  </tbody>\n",
       "</table>\n",
       "</div>"
      ],
      "text/plain": [
       "             AAPL    AMZN    GOOG   MSFT   YHOO\n",
       "Date                                           \n",
       "2010-01-04  30.49  136.25  313.16  30.62  16.94\n",
       "2010-01-05  30.66  133.43  313.28  30.85  17.22\n",
       "2010-01-06  30.63  134.60  312.62  30.88  17.17\n",
       "2010-01-07  30.25  132.01  304.40  30.63  16.81\n",
       "2010-01-08  30.04  130.56  295.70  30.28  16.68"
      ]
     },
     "execution_count": 36,
     "metadata": {},
     "output_type": "execute_result"
    }
   ],
   "source": [
    "panel['Open'].head()"
   ]
  },
  {
   "cell_type": "code",
   "execution_count": 1,
   "metadata": {
    "collapsed": true
   },
   "outputs": [],
   "source": [
    "import pandas as pd\n",
    "from pandas_datareader import data as wb"
   ]
  },
  {
   "cell_type": "code",
   "execution_count": 3,
   "metadata": {
    "collapsed": false
   },
   "outputs": [],
   "source": [
    "stocks = [\"MSFT\", \"GOOG\", \"AAPL\", \"YHOO\", \"AMZN\"]\n",
    "start = \"2010-01-01\"\n",
    "end = \"2016-12-31\"\n",
    "mydata = pd.DataFrame()\n",
    "for stock in stocks:\n",
    "    mydata[stock] = wb.DataReader(stock, 'google', start=start, end=end)['Close']"
   ]
  },
  {
   "cell_type": "code",
   "execution_count": 5,
   "metadata": {
    "collapsed": false
   },
   "outputs": [
    {
     "data": {
      "text/html": [
       "<div>\n",
       "<table border=\"1\" class=\"dataframe\">\n",
       "  <thead>\n",
       "    <tr style=\"text-align: right;\">\n",
       "      <th></th>\n",
       "      <th>MSFT</th>\n",
       "      <th>GOOG</th>\n",
       "      <th>AAPL</th>\n",
       "      <th>YHOO</th>\n",
       "      <th>AMZN</th>\n",
       "    </tr>\n",
       "    <tr>\n",
       "      <th>Date</th>\n",
       "      <th></th>\n",
       "      <th></th>\n",
       "      <th></th>\n",
       "      <th></th>\n",
       "      <th></th>\n",
       "    </tr>\n",
       "  </thead>\n",
       "  <tbody>\n",
       "    <tr>\n",
       "      <th>2010-01-04</th>\n",
       "      <td>30.95</td>\n",
       "      <td>313.06</td>\n",
       "      <td>30.57</td>\n",
       "      <td>17.10</td>\n",
       "      <td>133.90</td>\n",
       "    </tr>\n",
       "    <tr>\n",
       "      <th>2010-01-05</th>\n",
       "      <td>30.96</td>\n",
       "      <td>311.68</td>\n",
       "      <td>30.63</td>\n",
       "      <td>17.23</td>\n",
       "      <td>134.69</td>\n",
       "    </tr>\n",
       "    <tr>\n",
       "      <th>2010-01-06</th>\n",
       "      <td>30.77</td>\n",
       "      <td>303.83</td>\n",
       "      <td>30.14</td>\n",
       "      <td>17.17</td>\n",
       "      <td>132.25</td>\n",
       "    </tr>\n",
       "    <tr>\n",
       "      <th>2010-01-07</th>\n",
       "      <td>30.45</td>\n",
       "      <td>296.75</td>\n",
       "      <td>30.08</td>\n",
       "      <td>16.70</td>\n",
       "      <td>130.00</td>\n",
       "    </tr>\n",
       "    <tr>\n",
       "      <th>2010-01-08</th>\n",
       "      <td>30.66</td>\n",
       "      <td>300.71</td>\n",
       "      <td>30.28</td>\n",
       "      <td>16.70</td>\n",
       "      <td>133.52</td>\n",
       "    </tr>\n",
       "  </tbody>\n",
       "</table>\n",
       "</div>"
      ],
      "text/plain": [
       "             MSFT    GOOG   AAPL   YHOO    AMZN\n",
       "Date                                           \n",
       "2010-01-04  30.95  313.06  30.57  17.10  133.90\n",
       "2010-01-05  30.96  311.68  30.63  17.23  134.69\n",
       "2010-01-06  30.77  303.83  30.14  17.17  132.25\n",
       "2010-01-07  30.45  296.75  30.08  16.70  130.00\n",
       "2010-01-08  30.66  300.71  30.28  16.70  133.52"
      ]
     },
     "execution_count": 5,
     "metadata": {},
     "output_type": "execute_result"
    }
   ],
   "source": [
    "mydata.head()"
   ]
  },
  {
   "cell_type": "code",
   "execution_count": 7,
   "metadata": {
    "collapsed": false
   },
   "outputs": [
    {
     "data": {
      "text/plain": [
       "<class 'pandas.core.panel.Panel'>\n",
       "Dimensions: 5 (items) x 1761 (major_axis) x 5 (minor_axis)\n",
       "Items axis: Open to Volume\n",
       "Major_axis axis: 2010-01-04 00:00:00 to 2016-12-30 00:00:00\n",
       "Minor_axis axis: AAPL to YHOO"
      ]
     },
     "execution_count": 7,
     "metadata": {},
     "output_type": "execute_result"
    }
   ],
   "source": [
    "stocks = [\"MSFT\", \"GOOG\", \"AAPL\", \"YHOO\", \"AMZN\"]\n",
    "start = \"2010-01-01\"\n",
    "end = \"2016-12-31\"\n",
    "panel = wb.DataReader(stocks, 'google', start=start, end=end)\n",
    "panel"
   ]
  },
  {
   "cell_type": "code",
   "execution_count": 9,
   "metadata": {
    "collapsed": false
   },
   "outputs": [
    {
     "data": {
      "text/html": [
       "<div>\n",
       "<table border=\"1\" class=\"dataframe\">\n",
       "  <thead>\n",
       "    <tr style=\"text-align: right;\">\n",
       "      <th></th>\n",
       "      <th>Open</th>\n",
       "      <th>High</th>\n",
       "      <th>Low</th>\n",
       "      <th>Close</th>\n",
       "      <th>Volume</th>\n",
       "    </tr>\n",
       "  </thead>\n",
       "  <tbody>\n",
       "    <tr>\n",
       "      <th>AAPL</th>\n",
       "      <td>65.49</td>\n",
       "      <td>65.57</td>\n",
       "      <td>65.08</td>\n",
       "      <td>65.17</td>\n",
       "      <td>67510562.0</td>\n",
       "    </tr>\n",
       "    <tr>\n",
       "      <th>AMZN</th>\n",
       "      <td>173.81</td>\n",
       "      <td>179.95</td>\n",
       "      <td>172.00</td>\n",
       "      <td>179.46</td>\n",
       "      <td>21341033.0</td>\n",
       "    </tr>\n",
       "    <tr>\n",
       "      <th>GOOG</th>\n",
       "      <td>292.18</td>\n",
       "      <td>292.46</td>\n",
       "      <td>289.28</td>\n",
       "      <td>290.12</td>\n",
       "      <td>NaN</td>\n",
       "    </tr>\n",
       "    <tr>\n",
       "      <th>MSFT</th>\n",
       "      <td>29.79</td>\n",
       "      <td>30.05</td>\n",
       "      <td>29.76</td>\n",
       "      <td>29.89</td>\n",
       "      <td>67413817.0</td>\n",
       "    </tr>\n",
       "    <tr>\n",
       "      <th>YHOO</th>\n",
       "      <td>15.57</td>\n",
       "      <td>15.80</td>\n",
       "      <td>15.53</td>\n",
       "      <td>15.73</td>\n",
       "      <td>13223197.0</td>\n",
       "    </tr>\n",
       "  </tbody>\n",
       "</table>\n",
       "</div>"
      ],
      "text/plain": [
       "        Open    High     Low   Close      Volume\n",
       "AAPL   65.49   65.57   65.08   65.17  67510562.0\n",
       "AMZN  173.81  179.95  172.00  179.46  21341033.0\n",
       "GOOG  292.18  292.46  289.28  290.12         NaN\n",
       "MSFT   29.79   30.05   29.76   29.89  67413817.0\n",
       "YHOO   15.57   15.80   15.53   15.73  13223197.0"
      ]
     },
     "execution_count": 9,
     "metadata": {},
     "output_type": "execute_result"
    }
   ],
   "source": [
    "panel['Open']\n",
    "panel.major_xs('2012-02-01')"
   ]
  },
  {
   "cell_type": "markdown",
   "metadata": {},
   "source": [
    "# Transpose"
   ]
  },
  {
   "cell_type": "code",
   "execution_count": 12,
   "metadata": {
    "collapsed": false
   },
   "outputs": [
    {
     "data": {
      "text/plain": [
       "<class 'pandas.core.panel.Panel'>\n",
       "Dimensions: 5 (items) x 1761 (major_axis) x 5 (minor_axis)\n",
       "Items axis: AAPL to YHOO\n",
       "Major_axis axis: 2010-01-04 00:00:00 to 2016-12-30 00:00:00\n",
       "Minor_axis axis: Open to Volume"
      ]
     },
     "execution_count": 12,
     "metadata": {},
     "output_type": "execute_result"
    }
   ],
   "source": [
    "p2 = panel.transpose(2,1,0)\n",
    "p2"
   ]
  },
  {
   "cell_type": "code",
   "execution_count": 14,
   "metadata": {
    "collapsed": false
   },
   "outputs": [
    {
     "data": {
      "text/html": [
       "<div>\n",
       "<table border=\"1\" class=\"dataframe\">\n",
       "  <thead>\n",
       "    <tr style=\"text-align: right;\">\n",
       "      <th></th>\n",
       "      <th>Open</th>\n",
       "      <th>High</th>\n",
       "      <th>Low</th>\n",
       "      <th>Close</th>\n",
       "      <th>Volume</th>\n",
       "    </tr>\n",
       "    <tr>\n",
       "      <th>Date</th>\n",
       "      <th></th>\n",
       "      <th></th>\n",
       "      <th></th>\n",
       "      <th></th>\n",
       "      <th></th>\n",
       "    </tr>\n",
       "  </thead>\n",
       "  <tbody>\n",
       "    <tr>\n",
       "      <th>2010-01-04</th>\n",
       "      <td>16.94</td>\n",
       "      <td>17.20</td>\n",
       "      <td>16.88</td>\n",
       "      <td>17.10</td>\n",
       "      <td>16588957.0</td>\n",
       "    </tr>\n",
       "    <tr>\n",
       "      <th>2010-01-05</th>\n",
       "      <td>17.22</td>\n",
       "      <td>17.23</td>\n",
       "      <td>17.00</td>\n",
       "      <td>17.23</td>\n",
       "      <td>11718126.0</td>\n",
       "    </tr>\n",
       "    <tr>\n",
       "      <th>2010-01-06</th>\n",
       "      <td>17.17</td>\n",
       "      <td>17.30</td>\n",
       "      <td>17.07</td>\n",
       "      <td>17.17</td>\n",
       "      <td>16421960.0</td>\n",
       "    </tr>\n",
       "    <tr>\n",
       "      <th>2010-01-07</th>\n",
       "      <td>16.81</td>\n",
       "      <td>16.90</td>\n",
       "      <td>16.57</td>\n",
       "      <td>16.70</td>\n",
       "      <td>31816301.0</td>\n",
       "    </tr>\n",
       "    <tr>\n",
       "      <th>2010-01-08</th>\n",
       "      <td>16.68</td>\n",
       "      <td>16.76</td>\n",
       "      <td>16.62</td>\n",
       "      <td>16.70</td>\n",
       "      <td>15471074.0</td>\n",
       "    </tr>\n",
       "  </tbody>\n",
       "</table>\n",
       "</div>"
      ],
      "text/plain": [
       "             Open   High    Low  Close      Volume\n",
       "Date                                              \n",
       "2010-01-04  16.94  17.20  16.88  17.10  16588957.0\n",
       "2010-01-05  17.22  17.23  17.00  17.23  11718126.0\n",
       "2010-01-06  17.17  17.30  17.07  17.17  16421960.0\n",
       "2010-01-07  16.81  16.90  16.57  16.70  31816301.0\n",
       "2010-01-08  16.68  16.76  16.62  16.70  15471074.0"
      ]
     },
     "execution_count": 14,
     "metadata": {},
     "output_type": "execute_result"
    }
   ],
   "source": [
    "p2['YHOO'].head()"
   ]
  },
  {
   "cell_type": "code",
   "execution_count": 16,
   "metadata": {
    "collapsed": false
   },
   "outputs": [
    {
     "data": {
      "text/html": [
       "<div>\n",
       "<table border=\"1\" class=\"dataframe\">\n",
       "  <thead>\n",
       "    <tr style=\"text-align: right;\">\n",
       "      <th></th>\n",
       "      <th>AAPL</th>\n",
       "      <th>AMZN</th>\n",
       "      <th>GOOG</th>\n",
       "      <th>MSFT</th>\n",
       "      <th>YHOO</th>\n",
       "    </tr>\n",
       "  </thead>\n",
       "  <tbody>\n",
       "    <tr>\n",
       "      <th>Open</th>\n",
       "      <td>65.49</td>\n",
       "      <td>173.81</td>\n",
       "      <td>292.18</td>\n",
       "      <td>29.79</td>\n",
       "      <td>15.57</td>\n",
       "    </tr>\n",
       "    <tr>\n",
       "      <th>High</th>\n",
       "      <td>65.57</td>\n",
       "      <td>179.95</td>\n",
       "      <td>292.46</td>\n",
       "      <td>30.05</td>\n",
       "      <td>15.80</td>\n",
       "    </tr>\n",
       "    <tr>\n",
       "      <th>Low</th>\n",
       "      <td>65.08</td>\n",
       "      <td>172.00</td>\n",
       "      <td>289.28</td>\n",
       "      <td>29.76</td>\n",
       "      <td>15.53</td>\n",
       "    </tr>\n",
       "    <tr>\n",
       "      <th>Close</th>\n",
       "      <td>65.17</td>\n",
       "      <td>179.46</td>\n",
       "      <td>290.12</td>\n",
       "      <td>29.89</td>\n",
       "      <td>15.73</td>\n",
       "    </tr>\n",
       "    <tr>\n",
       "      <th>Volume</th>\n",
       "      <td>67510562.00</td>\n",
       "      <td>21341033.00</td>\n",
       "      <td>NaN</td>\n",
       "      <td>67413817.00</td>\n",
       "      <td>13223197.00</td>\n",
       "    </tr>\n",
       "  </tbody>\n",
       "</table>\n",
       "</div>"
      ],
      "text/plain": [
       "               AAPL         AMZN    GOOG         MSFT         YHOO\n",
       "Open          65.49       173.81  292.18        29.79        15.57\n",
       "High          65.57       179.95  292.46        30.05        15.80\n",
       "Low           65.08       172.00  289.28        29.76        15.53\n",
       "Close         65.17       179.46  290.12        29.89        15.73\n",
       "Volume  67510562.00  21341033.00     NaN  67413817.00  13223197.00"
      ]
     },
     "execution_count": 16,
     "metadata": {},
     "output_type": "execute_result"
    }
   ],
   "source": [
    "p2.major_xs('2012-02-01')"
   ]
  },
  {
   "cell_type": "markdown",
   "metadata": {},
   "source": [
    "# swapaxes method"
   ]
  },
  {
   "cell_type": "code",
   "execution_count": 18,
   "metadata": {
    "collapsed": false
   },
   "outputs": [
    {
     "data": {
      "text/plain": [
       "<class 'pandas.core.panel.Panel'>\n",
       "Dimensions: 5 (items) x 1761 (major_axis) x 5 (minor_axis)\n",
       "Items axis: AAPL to YHOO\n",
       "Major_axis axis: 2010-01-04 00:00:00 to 2016-12-30 00:00:00\n",
       "Minor_axis axis: Open to Volume"
      ]
     },
     "execution_count": 18,
     "metadata": {},
     "output_type": "execute_result"
    }
   ],
   "source": [
    "p3 = panel.swapaxes('items', 'minor')\n",
    "p3"
   ]
  },
  {
   "cell_type": "code",
   "execution_count": 22,
   "metadata": {
    "collapsed": false
   },
   "outputs": [
    {
     "data": {
      "text/html": [
       "<div>\n",
       "<table border=\"1\" class=\"dataframe\">\n",
       "  <thead>\n",
       "    <tr style=\"text-align: right;\">\n",
       "      <th></th>\n",
       "      <th>Open</th>\n",
       "      <th>High</th>\n",
       "      <th>Low</th>\n",
       "      <th>Close</th>\n",
       "      <th>Volume</th>\n",
       "    </tr>\n",
       "    <tr>\n",
       "      <th>Date</th>\n",
       "      <th></th>\n",
       "      <th></th>\n",
       "      <th></th>\n",
       "      <th></th>\n",
       "      <th></th>\n",
       "    </tr>\n",
       "  </thead>\n",
       "  <tbody>\n",
       "    <tr>\n",
       "      <th>2010-01-04</th>\n",
       "      <td>30.49</td>\n",
       "      <td>30.64</td>\n",
       "      <td>30.34</td>\n",
       "      <td>30.57</td>\n",
       "      <td>123432050.0</td>\n",
       "    </tr>\n",
       "    <tr>\n",
       "      <th>2010-01-05</th>\n",
       "      <td>30.66</td>\n",
       "      <td>30.80</td>\n",
       "      <td>30.46</td>\n",
       "      <td>30.63</td>\n",
       "      <td>150476004.0</td>\n",
       "    </tr>\n",
       "    <tr>\n",
       "      <th>2010-01-06</th>\n",
       "      <td>30.63</td>\n",
       "      <td>30.75</td>\n",
       "      <td>30.11</td>\n",
       "      <td>30.14</td>\n",
       "      <td>138039594.0</td>\n",
       "    </tr>\n",
       "    <tr>\n",
       "      <th>2010-01-07</th>\n",
       "      <td>30.25</td>\n",
       "      <td>30.29</td>\n",
       "      <td>29.86</td>\n",
       "      <td>30.08</td>\n",
       "      <td>119282324.0</td>\n",
       "    </tr>\n",
       "    <tr>\n",
       "      <th>2010-01-08</th>\n",
       "      <td>30.04</td>\n",
       "      <td>30.29</td>\n",
       "      <td>29.87</td>\n",
       "      <td>30.28</td>\n",
       "      <td>111969081.0</td>\n",
       "    </tr>\n",
       "  </tbody>\n",
       "</table>\n",
       "</div>"
      ],
      "text/plain": [
       "             Open   High    Low  Close       Volume\n",
       "Date                                               \n",
       "2010-01-04  30.49  30.64  30.34  30.57  123432050.0\n",
       "2010-01-05  30.66  30.80  30.46  30.63  150476004.0\n",
       "2010-01-06  30.63  30.75  30.11  30.14  138039594.0\n",
       "2010-01-07  30.25  30.29  29.86  30.08  119282324.0\n",
       "2010-01-08  30.04  30.29  29.87  30.28  111969081.0"
      ]
     },
     "execution_count": 22,
     "metadata": {},
     "output_type": "execute_result"
    }
   ],
   "source": [
    "p3['AAPL'].head()"
   ]
  },
  {
   "cell_type": "code",
   "execution_count": null,
   "metadata": {
    "collapsed": true
   },
   "outputs": [],
   "source": []
  }
 ],
 "metadata": {
  "kernelspec": {
   "display_name": "Python 3",
   "language": "python",
   "name": "python3"
  },
  "language_info": {
   "codemirror_mode": {
    "name": "ipython",
    "version": 3
   },
   "file_extension": ".py",
   "mimetype": "text/x-python",
   "name": "python",
   "nbconvert_exporter": "python",
   "pygments_lexer": "ipython3",
   "version": "3.6.1"
  }
 },
 "nbformat": 4,
 "nbformat_minor": 2
}
