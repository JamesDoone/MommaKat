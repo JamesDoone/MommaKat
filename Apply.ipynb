{
 "cells": [
  {
   "cell_type": "code",
   "execution_count": 1,
   "metadata": {
    "collapsed": true
   },
   "outputs": [],
   "source": [
    "import pandas as pd"
   ]
  },
  {
   "cell_type": "code",
   "execution_count": 6,
   "metadata": {
    "collapsed": false
   },
   "outputs": [
    {
     "name": "stdout",
     "output_type": "stream",
     "text": [
      "/Users/jimdoone/Desktop/pandas_data_files\n"
     ]
    }
   ],
   "source": [
    "%cd pandas_data_files/"
   ]
  },
  {
   "cell_type": "code",
   "execution_count": 7,
   "metadata": {
    "collapsed": false
   },
   "outputs": [
    {
     "name": "stdout",
     "output_type": "stream",
     "text": [
      "Baby_Names.xlsx                       employees.csv\r\n",
      "Data - Multiple Worksheets.xlsx       foods.csv\r\n",
      "Data - Single Worksheet.xlsx          fortune1000.csv\r\n",
      "Restaurant - Customers.csv            google_stock_price.csv\r\n",
      "Restaurant - Foods.csv                jamesbond.csv\r\n",
      "Restaurant - Week 1 Sales.csv         nba.csv\r\n",
      "Restaurant - Week 1 Satisfaction.csv  pokemon.csv\r\n",
      "Restaurant - Week 2 Sales.csv         quarters.csv\r\n",
      "bigmac.csv                            revenue.csv\r\n",
      "chicago.csv                           salesmen.csv\r\n",
      "ecommerce.csv                         worldstats.csv\r\n"
     ]
    }
   ],
   "source": [
    "%ls"
   ]
  },
  {
   "cell_type": "markdown",
   "metadata": {},
   "source": [
    "##### apply() with a Series"
   ]
  },
  {
   "cell_type": "code",
   "execution_count": 10,
   "metadata": {
    "collapsed": false
   },
   "outputs": [
    {
     "data": {
      "text/plain": [
       "0    50.12\n",
       "1    54.10\n",
       "2    54.65\n",
       "3    52.38\n",
       "4    52.95\n",
       "Name: Stock Price, dtype: float64"
      ]
     },
     "execution_count": 10,
     "metadata": {},
     "output_type": "execute_result"
    }
   ],
   "source": [
    "g = pd.read_csv('google_stock_price.csv', squeeze = True)\n",
    "g.head()"
   ]
  },
  {
   "cell_type": "markdown",
   "metadata": {},
   "source": [
    "##### Step 1: create a function"
   ]
  },
  {
   "cell_type": "code",
   "execution_count": 12,
   "metadata": {
    "collapsed": false
   },
   "outputs": [],
   "source": [
    "def classify_performance(number):\n",
    "    if number < 300:\n",
    "        return \"Ok\"\n",
    "    elif number >= 300 and number < 650:\n",
    "        return \"Satisfactory\"\n",
    "    else:\n",
    "        return \"Incredible\"\n",
    "        \n",
    "        "
   ]
  },
  {
   "cell_type": "markdown",
   "metadata": {},
   "source": [
    "##### Implement apply() pass thru the function"
   ]
  },
  {
   "cell_type": "code",
   "execution_count": 13,
   "metadata": {
    "collapsed": false
   },
   "outputs": [
    {
     "data": {
      "text/plain": [
       "0               Ok\n",
       "1               Ok\n",
       "2               Ok\n",
       "3               Ok\n",
       "4               Ok\n",
       "5               Ok\n",
       "6               Ok\n",
       "7               Ok\n",
       "8               Ok\n",
       "9               Ok\n",
       "10              Ok\n",
       "11              Ok\n",
       "12              Ok\n",
       "13              Ok\n",
       "14              Ok\n",
       "15              Ok\n",
       "16              Ok\n",
       "17              Ok\n",
       "18              Ok\n",
       "19              Ok\n",
       "20              Ok\n",
       "21              Ok\n",
       "22              Ok\n",
       "23              Ok\n",
       "24              Ok\n",
       "25              Ok\n",
       "26              Ok\n",
       "27              Ok\n",
       "28              Ok\n",
       "29              Ok\n",
       "           ...    \n",
       "2982    Incredible\n",
       "2983    Incredible\n",
       "2984    Incredible\n",
       "2985    Incredible\n",
       "2986    Incredible\n",
       "2987    Incredible\n",
       "2988    Incredible\n",
       "2989    Incredible\n",
       "2990    Incredible\n",
       "2991    Incredible\n",
       "2992    Incredible\n",
       "2993    Incredible\n",
       "2994    Incredible\n",
       "2995    Incredible\n",
       "2996    Incredible\n",
       "2997    Incredible\n",
       "2998    Incredible\n",
       "2999    Incredible\n",
       "3000    Incredible\n",
       "3001    Incredible\n",
       "3002    Incredible\n",
       "3003    Incredible\n",
       "3004    Incredible\n",
       "3005    Incredible\n",
       "3006    Incredible\n",
       "3007    Incredible\n",
       "3008    Incredible\n",
       "3009    Incredible\n",
       "3010    Incredible\n",
       "3011    Incredible\n",
       "Name: Stock Price, dtype: object"
      ]
     },
     "execution_count": 13,
     "metadata": {},
     "output_type": "execute_result"
    }
   ],
   "source": [
    "g.apply(classify_performance)"
   ]
  },
  {
   "cell_type": "markdown",
   "metadata": {},
   "source": [
    "##### Pass thru the function with a lambda expression"
   ]
  },
  {
   "cell_type": "code",
   "execution_count": 16,
   "metadata": {
    "collapsed": false
   },
   "outputs": [
    {
     "data": {
      "text/plain": [
       "0        51.12\n",
       "1        55.10\n",
       "2        55.65\n",
       "3        53.38\n",
       "4        53.95\n",
       "5        54.90\n",
       "6        54.02\n",
       "7        51.95\n",
       "8        52.13\n",
       "9        51.07\n",
       "10       51.70\n",
       "11       50.95\n",
       "12       51.74\n",
       "13       52.10\n",
       "14       52.10\n",
       "15       53.61\n",
       "16       54.70\n",
       "17       56.69\n",
       "18       56.94\n",
       "19       57.93\n",
       "20       59.69\n",
       "21       60.62\n",
       "22       59.86\n",
       "23       60.13\n",
       "24       61.35\n",
       "25       60.86\n",
       "26       60.07\n",
       "27       64.37\n",
       "28       66.47\n",
       "29       65.74\n",
       "         ...  \n",
       "2982    676.22\n",
       "2983    669.26\n",
       "2984    681.04\n",
       "2985    685.11\n",
       "2986    693.10\n",
       "2987    700.21\n",
       "2988    695.49\n",
       "2989    698.77\n",
       "2990    696.36\n",
       "2991    706.63\n",
       "2992    716.09\n",
       "2993    721.64\n",
       "2994    717.98\n",
       "2995    721.95\n",
       "2996    720.85\n",
       "2997    734.78\n",
       "2998    737.96\n",
       "2999    742.19\n",
       "3000    739.63\n",
       "3001    743.74\n",
       "3002    740.77\n",
       "3003    739.42\n",
       "3004    742.77\n",
       "3005    746.91\n",
       "3006    769.79\n",
       "3007    773.88\n",
       "3008    772.07\n",
       "3009    774.18\n",
       "3010    772.61\n",
       "3011    783.22\n",
       "Name: Stock Price, dtype: float64"
      ]
     },
     "execution_count": 16,
     "metadata": {},
     "output_type": "execute_result"
    }
   ],
   "source": [
    "g.apply(lambda x: x + 1)"
   ]
  },
  {
   "cell_type": "code",
   "execution_count": 20,
   "metadata": {
    "collapsed": false
   },
   "outputs": [
    {
     "data": {
      "text/html": [
       "<div>\n",
       "<table border=\"1\" class=\"dataframe\">\n",
       "  <thead>\n",
       "    <tr style=\"text-align: right;\">\n",
       "      <th></th>\n",
       "      <th>Year</th>\n",
       "      <th>Actor</th>\n",
       "      <th>Director</th>\n",
       "      <th>Box Office</th>\n",
       "      <th>Budget</th>\n",
       "      <th>Bond Actor Salary</th>\n",
       "    </tr>\n",
       "    <tr>\n",
       "      <th>Film</th>\n",
       "      <th></th>\n",
       "      <th></th>\n",
       "      <th></th>\n",
       "      <th></th>\n",
       "      <th></th>\n",
       "      <th></th>\n",
       "    </tr>\n",
       "  </thead>\n",
       "  <tbody>\n",
       "    <tr>\n",
       "      <th>A View to a Kill</th>\n",
       "      <td>1985</td>\n",
       "      <td>Roger Moore</td>\n",
       "      <td>John Glen</td>\n",
       "      <td>275.2</td>\n",
       "      <td>54.5</td>\n",
       "      <td>9.1</td>\n",
       "    </tr>\n",
       "    <tr>\n",
       "      <th>Casino Royale</th>\n",
       "      <td>2006</td>\n",
       "      <td>Daniel Craig</td>\n",
       "      <td>Martin Campbell</td>\n",
       "      <td>581.5</td>\n",
       "      <td>145.3</td>\n",
       "      <td>3.3</td>\n",
       "    </tr>\n",
       "    <tr>\n",
       "      <th>Casino Royale</th>\n",
       "      <td>1967</td>\n",
       "      <td>David Niven</td>\n",
       "      <td>Ken Hughes</td>\n",
       "      <td>315.0</td>\n",
       "      <td>85.0</td>\n",
       "      <td>NaN</td>\n",
       "    </tr>\n",
       "    <tr>\n",
       "      <th>Diamonds Are Forever</th>\n",
       "      <td>1971</td>\n",
       "      <td>Sean Connery</td>\n",
       "      <td>Guy Hamilton</td>\n",
       "      <td>442.5</td>\n",
       "      <td>34.7</td>\n",
       "      <td>5.8</td>\n",
       "    </tr>\n",
       "    <tr>\n",
       "      <th>Die Another Day</th>\n",
       "      <td>2002</td>\n",
       "      <td>Pierce Brosnan</td>\n",
       "      <td>Lee Tamahori</td>\n",
       "      <td>465.4</td>\n",
       "      <td>154.2</td>\n",
       "      <td>17.9</td>\n",
       "    </tr>\n",
       "    <tr>\n",
       "      <th>Dr. No</th>\n",
       "      <td>1962</td>\n",
       "      <td>Sean Connery</td>\n",
       "      <td>Terence Young</td>\n",
       "      <td>448.8</td>\n",
       "      <td>7.0</td>\n",
       "      <td>0.6</td>\n",
       "    </tr>\n",
       "    <tr>\n",
       "      <th>For Your Eyes Only</th>\n",
       "      <td>1981</td>\n",
       "      <td>Roger Moore</td>\n",
       "      <td>John Glen</td>\n",
       "      <td>449.4</td>\n",
       "      <td>60.2</td>\n",
       "      <td>NaN</td>\n",
       "    </tr>\n",
       "    <tr>\n",
       "      <th>From Russia with Love</th>\n",
       "      <td>1963</td>\n",
       "      <td>Sean Connery</td>\n",
       "      <td>Terence Young</td>\n",
       "      <td>543.8</td>\n",
       "      <td>12.6</td>\n",
       "      <td>1.6</td>\n",
       "    </tr>\n",
       "    <tr>\n",
       "      <th>GoldenEye</th>\n",
       "      <td>1995</td>\n",
       "      <td>Pierce Brosnan</td>\n",
       "      <td>Martin Campbell</td>\n",
       "      <td>518.5</td>\n",
       "      <td>76.9</td>\n",
       "      <td>5.1</td>\n",
       "    </tr>\n",
       "    <tr>\n",
       "      <th>Goldfinger</th>\n",
       "      <td>1964</td>\n",
       "      <td>Sean Connery</td>\n",
       "      <td>Guy Hamilton</td>\n",
       "      <td>820.4</td>\n",
       "      <td>18.6</td>\n",
       "      <td>3.2</td>\n",
       "    </tr>\n",
       "    <tr>\n",
       "      <th>Licence to Kill</th>\n",
       "      <td>1989</td>\n",
       "      <td>Timothy Dalton</td>\n",
       "      <td>John Glen</td>\n",
       "      <td>250.9</td>\n",
       "      <td>56.7</td>\n",
       "      <td>7.9</td>\n",
       "    </tr>\n",
       "    <tr>\n",
       "      <th>Live and Let Die</th>\n",
       "      <td>1973</td>\n",
       "      <td>Roger Moore</td>\n",
       "      <td>Guy Hamilton</td>\n",
       "      <td>460.3</td>\n",
       "      <td>30.8</td>\n",
       "      <td>NaN</td>\n",
       "    </tr>\n",
       "    <tr>\n",
       "      <th>Moonraker</th>\n",
       "      <td>1979</td>\n",
       "      <td>Roger Moore</td>\n",
       "      <td>Lewis Gilbert</td>\n",
       "      <td>535.0</td>\n",
       "      <td>91.5</td>\n",
       "      <td>NaN</td>\n",
       "    </tr>\n",
       "    <tr>\n",
       "      <th>Never Say Never Again</th>\n",
       "      <td>1983</td>\n",
       "      <td>Sean Connery</td>\n",
       "      <td>Irvin Kershner</td>\n",
       "      <td>380.0</td>\n",
       "      <td>86.0</td>\n",
       "      <td>NaN</td>\n",
       "    </tr>\n",
       "    <tr>\n",
       "      <th>Octopussy</th>\n",
       "      <td>1983</td>\n",
       "      <td>Roger Moore</td>\n",
       "      <td>John Glen</td>\n",
       "      <td>373.8</td>\n",
       "      <td>53.9</td>\n",
       "      <td>7.8</td>\n",
       "    </tr>\n",
       "    <tr>\n",
       "      <th>On Her Majesty's Secret Service</th>\n",
       "      <td>1969</td>\n",
       "      <td>George Lazenby</td>\n",
       "      <td>Peter R. Hunt</td>\n",
       "      <td>291.5</td>\n",
       "      <td>37.3</td>\n",
       "      <td>0.6</td>\n",
       "    </tr>\n",
       "    <tr>\n",
       "      <th>Quantum of Solace</th>\n",
       "      <td>2008</td>\n",
       "      <td>Daniel Craig</td>\n",
       "      <td>Marc Forster</td>\n",
       "      <td>514.2</td>\n",
       "      <td>181.4</td>\n",
       "      <td>8.1</td>\n",
       "    </tr>\n",
       "    <tr>\n",
       "      <th>Skyfall</th>\n",
       "      <td>2012</td>\n",
       "      <td>Daniel Craig</td>\n",
       "      <td>Sam Mendes</td>\n",
       "      <td>943.5</td>\n",
       "      <td>170.2</td>\n",
       "      <td>14.5</td>\n",
       "    </tr>\n",
       "    <tr>\n",
       "      <th>Spectre</th>\n",
       "      <td>2015</td>\n",
       "      <td>Daniel Craig</td>\n",
       "      <td>Sam Mendes</td>\n",
       "      <td>726.7</td>\n",
       "      <td>206.3</td>\n",
       "      <td>NaN</td>\n",
       "    </tr>\n",
       "    <tr>\n",
       "      <th>The Living Daylights</th>\n",
       "      <td>1987</td>\n",
       "      <td>Timothy Dalton</td>\n",
       "      <td>John Glen</td>\n",
       "      <td>313.5</td>\n",
       "      <td>68.8</td>\n",
       "      <td>5.2</td>\n",
       "    </tr>\n",
       "    <tr>\n",
       "      <th>The Man with the Golden Gun</th>\n",
       "      <td>1974</td>\n",
       "      <td>Roger Moore</td>\n",
       "      <td>Guy Hamilton</td>\n",
       "      <td>334.0</td>\n",
       "      <td>27.7</td>\n",
       "      <td>NaN</td>\n",
       "    </tr>\n",
       "    <tr>\n",
       "      <th>The Spy Who Loved Me</th>\n",
       "      <td>1977</td>\n",
       "      <td>Roger Moore</td>\n",
       "      <td>Lewis Gilbert</td>\n",
       "      <td>533.0</td>\n",
       "      <td>45.1</td>\n",
       "      <td>NaN</td>\n",
       "    </tr>\n",
       "    <tr>\n",
       "      <th>The World Is Not Enough</th>\n",
       "      <td>1999</td>\n",
       "      <td>Pierce Brosnan</td>\n",
       "      <td>Michael Apted</td>\n",
       "      <td>439.5</td>\n",
       "      <td>158.3</td>\n",
       "      <td>13.5</td>\n",
       "    </tr>\n",
       "    <tr>\n",
       "      <th>Thunderball</th>\n",
       "      <td>1965</td>\n",
       "      <td>Sean Connery</td>\n",
       "      <td>Terence Young</td>\n",
       "      <td>848.1</td>\n",
       "      <td>41.9</td>\n",
       "      <td>4.7</td>\n",
       "    </tr>\n",
       "    <tr>\n",
       "      <th>Tomorrow Never Dies</th>\n",
       "      <td>1997</td>\n",
       "      <td>Pierce Brosnan</td>\n",
       "      <td>Roger Spottiswoode</td>\n",
       "      <td>463.2</td>\n",
       "      <td>133.9</td>\n",
       "      <td>10.0</td>\n",
       "    </tr>\n",
       "    <tr>\n",
       "      <th>You Only Live Twice</th>\n",
       "      <td>1967</td>\n",
       "      <td>Sean Connery</td>\n",
       "      <td>Lewis Gilbert</td>\n",
       "      <td>514.2</td>\n",
       "      <td>59.9</td>\n",
       "      <td>4.4</td>\n",
       "    </tr>\n",
       "  </tbody>\n",
       "</table>\n",
       "</div>"
      ],
      "text/plain": [
       "                                 Year           Actor            Director  \\\n",
       "Film                                                                        \n",
       "A View to a Kill                 1985     Roger Moore           John Glen   \n",
       "Casino Royale                    2006    Daniel Craig     Martin Campbell   \n",
       "Casino Royale                    1967     David Niven          Ken Hughes   \n",
       "Diamonds Are Forever             1971    Sean Connery        Guy Hamilton   \n",
       "Die Another Day                  2002  Pierce Brosnan        Lee Tamahori   \n",
       "Dr. No                           1962    Sean Connery       Terence Young   \n",
       "For Your Eyes Only               1981     Roger Moore           John Glen   \n",
       "From Russia with Love            1963    Sean Connery       Terence Young   \n",
       "GoldenEye                        1995  Pierce Brosnan     Martin Campbell   \n",
       "Goldfinger                       1964    Sean Connery        Guy Hamilton   \n",
       "Licence to Kill                  1989  Timothy Dalton           John Glen   \n",
       "Live and Let Die                 1973     Roger Moore        Guy Hamilton   \n",
       "Moonraker                        1979     Roger Moore       Lewis Gilbert   \n",
       "Never Say Never Again            1983    Sean Connery      Irvin Kershner   \n",
       "Octopussy                        1983     Roger Moore           John Glen   \n",
       "On Her Majesty's Secret Service  1969  George Lazenby       Peter R. Hunt   \n",
       "Quantum of Solace                2008    Daniel Craig        Marc Forster   \n",
       "Skyfall                          2012    Daniel Craig          Sam Mendes   \n",
       "Spectre                          2015    Daniel Craig          Sam Mendes   \n",
       "The Living Daylights             1987  Timothy Dalton           John Glen   \n",
       "The Man with the Golden Gun      1974     Roger Moore        Guy Hamilton   \n",
       "The Spy Who Loved Me             1977     Roger Moore       Lewis Gilbert   \n",
       "The World Is Not Enough          1999  Pierce Brosnan       Michael Apted   \n",
       "Thunderball                      1965    Sean Connery       Terence Young   \n",
       "Tomorrow Never Dies              1997  Pierce Brosnan  Roger Spottiswoode   \n",
       "You Only Live Twice              1967    Sean Connery       Lewis Gilbert   \n",
       "\n",
       "                                 Box Office  Budget  Bond Actor Salary  \n",
       "Film                                                                    \n",
       "A View to a Kill                      275.2    54.5                9.1  \n",
       "Casino Royale                         581.5   145.3                3.3  \n",
       "Casino Royale                         315.0    85.0                NaN  \n",
       "Diamonds Are Forever                  442.5    34.7                5.8  \n",
       "Die Another Day                       465.4   154.2               17.9  \n",
       "Dr. No                                448.8     7.0                0.6  \n",
       "For Your Eyes Only                    449.4    60.2                NaN  \n",
       "From Russia with Love                 543.8    12.6                1.6  \n",
       "GoldenEye                             518.5    76.9                5.1  \n",
       "Goldfinger                            820.4    18.6                3.2  \n",
       "Licence to Kill                       250.9    56.7                7.9  \n",
       "Live and Let Die                      460.3    30.8                NaN  \n",
       "Moonraker                             535.0    91.5                NaN  \n",
       "Never Say Never Again                 380.0    86.0                NaN  \n",
       "Octopussy                             373.8    53.9                7.8  \n",
       "On Her Majesty's Secret Service       291.5    37.3                0.6  \n",
       "Quantum of Solace                     514.2   181.4                8.1  \n",
       "Skyfall                               943.5   170.2               14.5  \n",
       "Spectre                               726.7   206.3                NaN  \n",
       "The Living Daylights                  313.5    68.8                5.2  \n",
       "The Man with the Golden Gun           334.0    27.7                NaN  \n",
       "The Spy Who Loved Me                  533.0    45.1                NaN  \n",
       "The World Is Not Enough               439.5   158.3               13.5  \n",
       "Thunderball                           848.1    41.9                4.7  \n",
       "Tomorrow Never Dies                   463.2   133.9               10.0  \n",
       "You Only Live Twice                   514.2    59.9                4.4  "
      ]
     },
     "execution_count": 20,
     "metadata": {},
     "output_type": "execute_result"
    }
   ],
   "source": [
    "bond = pd.read_csv('jamesbond.csv', index_col='Film')\n",
    "bond.sort_index(inplace = True)\n",
    "bond"
   ]
  },
  {
   "cell_type": "markdown",
   "metadata": {},
   "source": [
    "##### Convert numbers to strings"
   ]
  },
  {
   "cell_type": "code",
   "execution_count": 21,
   "metadata": {
    "collapsed": true
   },
   "outputs": [],
   "source": [
    "def conv_to_string_add_mm(number):\n",
    "    return str(number)+'mm'"
   ]
  },
  {
   "cell_type": "code",
   "execution_count": 23,
   "metadata": {
    "collapsed": false
   },
   "outputs": [
    {
     "data": {
      "text/plain": [
       "Film\n",
       "A View to a Kill                   275.2mm\n",
       "Casino Royale                      581.5mm\n",
       "Casino Royale                      315.0mm\n",
       "Diamonds Are Forever               442.5mm\n",
       "Die Another Day                    465.4mm\n",
       "Dr. No                             448.8mm\n",
       "For Your Eyes Only                 449.4mm\n",
       "From Russia with Love              543.8mm\n",
       "GoldenEye                          518.5mm\n",
       "Goldfinger                         820.4mm\n",
       "Licence to Kill                    250.9mm\n",
       "Live and Let Die                   460.3mm\n",
       "Moonraker                          535.0mm\n",
       "Never Say Never Again              380.0mm\n",
       "Octopussy                          373.8mm\n",
       "On Her Majesty's Secret Service    291.5mm\n",
       "Quantum of Solace                  514.2mm\n",
       "Skyfall                            943.5mm\n",
       "Spectre                            726.7mm\n",
       "The Living Daylights               313.5mm\n",
       "The Man with the Golden Gun        334.0mm\n",
       "The Spy Who Loved Me               533.0mm\n",
       "The World Is Not Enough            439.5mm\n",
       "Thunderball                        848.1mm\n",
       "Tomorrow Never Dies                463.2mm\n",
       "You Only Live Twice                514.2mm\n",
       "Name: Box Office, dtype: object"
      ]
     },
     "execution_count": 23,
     "metadata": {},
     "output_type": "execute_result"
    }
   ],
   "source": [
    "bond[\"Box Office\"].apply(conv_to_string_add_mm)"
   ]
  },
  {
   "cell_type": "markdown",
   "metadata": {},
   "source": [
    "##### Convert specified multiple columns using apply()"
   ]
  },
  {
   "cell_type": "code",
   "execution_count": 24,
   "metadata": {
    "collapsed": false
   },
   "outputs": [
    {
     "data": {
      "text/plain": [
       "Index(['Year', 'Actor', 'Director', 'Box Office', 'Budget',\n",
       "       'Bond Actor Salary'],\n",
       "      dtype='object')"
      ]
     },
     "execution_count": 24,
     "metadata": {},
     "output_type": "execute_result"
    }
   ],
   "source": [
    "bond.columns"
   ]
  },
  {
   "cell_type": "code",
   "execution_count": 25,
   "metadata": {
    "collapsed": true
   },
   "outputs": [],
   "source": [
    "columns = ['Box Office', 'Budget', 'Bond Actor Salary']\n",
    "for col in columns:\n",
    "    bond[col] = bond[col].apply(conv_to_string_add_mm)"
   ]
  },
  {
   "cell_type": "code",
   "execution_count": 26,
   "metadata": {
    "collapsed": false
   },
   "outputs": [
    {
     "data": {
      "text/html": [
       "<div>\n",
       "<table border=\"1\" class=\"dataframe\">\n",
       "  <thead>\n",
       "    <tr style=\"text-align: right;\">\n",
       "      <th></th>\n",
       "      <th>Year</th>\n",
       "      <th>Actor</th>\n",
       "      <th>Director</th>\n",
       "      <th>Box Office</th>\n",
       "      <th>Budget</th>\n",
       "      <th>Bond Actor Salary</th>\n",
       "    </tr>\n",
       "    <tr>\n",
       "      <th>Film</th>\n",
       "      <th></th>\n",
       "      <th></th>\n",
       "      <th></th>\n",
       "      <th></th>\n",
       "      <th></th>\n",
       "      <th></th>\n",
       "    </tr>\n",
       "  </thead>\n",
       "  <tbody>\n",
       "    <tr>\n",
       "      <th>A View to a Kill</th>\n",
       "      <td>1985</td>\n",
       "      <td>Roger Moore</td>\n",
       "      <td>John Glen</td>\n",
       "      <td>275.2mm</td>\n",
       "      <td>54.5mm</td>\n",
       "      <td>9.1mm</td>\n",
       "    </tr>\n",
       "    <tr>\n",
       "      <th>Casino Royale</th>\n",
       "      <td>2006</td>\n",
       "      <td>Daniel Craig</td>\n",
       "      <td>Martin Campbell</td>\n",
       "      <td>581.5mm</td>\n",
       "      <td>145.3mm</td>\n",
       "      <td>3.3mm</td>\n",
       "    </tr>\n",
       "    <tr>\n",
       "      <th>Casino Royale</th>\n",
       "      <td>1967</td>\n",
       "      <td>David Niven</td>\n",
       "      <td>Ken Hughes</td>\n",
       "      <td>315.0mm</td>\n",
       "      <td>85.0mm</td>\n",
       "      <td>nanmm</td>\n",
       "    </tr>\n",
       "    <tr>\n",
       "      <th>Diamonds Are Forever</th>\n",
       "      <td>1971</td>\n",
       "      <td>Sean Connery</td>\n",
       "      <td>Guy Hamilton</td>\n",
       "      <td>442.5mm</td>\n",
       "      <td>34.7mm</td>\n",
       "      <td>5.8mm</td>\n",
       "    </tr>\n",
       "    <tr>\n",
       "      <th>Die Another Day</th>\n",
       "      <td>2002</td>\n",
       "      <td>Pierce Brosnan</td>\n",
       "      <td>Lee Tamahori</td>\n",
       "      <td>465.4mm</td>\n",
       "      <td>154.2mm</td>\n",
       "      <td>17.9mm</td>\n",
       "    </tr>\n",
       "  </tbody>\n",
       "</table>\n",
       "</div>"
      ],
      "text/plain": [
       "                      Year           Actor         Director Box Office  \\\n",
       "Film                                                                     \n",
       "A View to a Kill      1985     Roger Moore        John Glen    275.2mm   \n",
       "Casino Royale         2006    Daniel Craig  Martin Campbell    581.5mm   \n",
       "Casino Royale         1967     David Niven       Ken Hughes    315.0mm   \n",
       "Diamonds Are Forever  1971    Sean Connery     Guy Hamilton    442.5mm   \n",
       "Die Another Day       2002  Pierce Brosnan     Lee Tamahori    465.4mm   \n",
       "\n",
       "                       Budget Bond Actor Salary  \n",
       "Film                                             \n",
       "A View to a Kill       54.5mm             9.1mm  \n",
       "Casino Royale         145.3mm             3.3mm  \n",
       "Casino Royale          85.0mm             nanmm  \n",
       "Diamonds Are Forever   34.7mm             5.8mm  \n",
       "Die Another Day       154.2mm            17.9mm  "
      ]
     },
     "execution_count": 26,
     "metadata": {},
     "output_type": "execute_result"
    }
   ],
   "source": [
    "bond.head()"
   ]
  },
  {
   "cell_type": "markdown",
   "metadata": {},
   "source": [
    "##### apply() with row values\n",
    "##### must pass: axis = \"columns\""
   ]
  },
  {
   "cell_type": "code",
   "execution_count": 28,
   "metadata": {
    "collapsed": false
   },
   "outputs": [
    {
     "data": {
      "text/html": [
       "<div>\n",
       "<table border=\"1\" class=\"dataframe\">\n",
       "  <thead>\n",
       "    <tr style=\"text-align: right;\">\n",
       "      <th></th>\n",
       "      <th>Year</th>\n",
       "      <th>Actor</th>\n",
       "      <th>Director</th>\n",
       "      <th>Box Office</th>\n",
       "      <th>Budget</th>\n",
       "      <th>Bond Actor Salary</th>\n",
       "    </tr>\n",
       "    <tr>\n",
       "      <th>Film</th>\n",
       "      <th></th>\n",
       "      <th></th>\n",
       "      <th></th>\n",
       "      <th></th>\n",
       "      <th></th>\n",
       "      <th></th>\n",
       "    </tr>\n",
       "  </thead>\n",
       "  <tbody>\n",
       "    <tr>\n",
       "      <th>A View to a Kill</th>\n",
       "      <td>1985</td>\n",
       "      <td>Roger Moore</td>\n",
       "      <td>John Glen</td>\n",
       "      <td>275.2</td>\n",
       "      <td>54.5</td>\n",
       "      <td>9.1</td>\n",
       "    </tr>\n",
       "    <tr>\n",
       "      <th>Casino Royale</th>\n",
       "      <td>2006</td>\n",
       "      <td>Daniel Craig</td>\n",
       "      <td>Martin Campbell</td>\n",
       "      <td>581.5</td>\n",
       "      <td>145.3</td>\n",
       "      <td>3.3</td>\n",
       "    </tr>\n",
       "  </tbody>\n",
       "</table>\n",
       "</div>"
      ],
      "text/plain": [
       "                  Year         Actor         Director  Box Office  Budget  \\\n",
       "Film                                                                        \n",
       "A View to a Kill  1985   Roger Moore        John Glen       275.2    54.5   \n",
       "Casino Royale     2006  Daniel Craig  Martin Campbell       581.5   145.3   \n",
       "\n",
       "                  Bond Actor Salary  \n",
       "Film                                 \n",
       "A View to a Kill                9.1  \n",
       "Casino Royale                   3.3  "
      ]
     },
     "execution_count": 28,
     "metadata": {},
     "output_type": "execute_result"
    }
   ],
   "source": [
    "bond = pd.read_csv('jamesbond.csv', index_col='Film')\n",
    "bond.sort_index(inplace = True)\n",
    "bond.head(2)"
   ]
  },
  {
   "cell_type": "code",
   "execution_count": 29,
   "metadata": {
    "collapsed": true
   },
   "outputs": [],
   "source": [
    "def good_movie(row):\n",
    "    \n",
    "    actor = row[1]\n",
    "    budget = row[4]\n",
    "    \n",
    "    if actor == \"Pierce Brosnan\":\n",
    "        return \"Best\"\n",
    "    elif actor == 'Roger Moore' and budget > 40:\n",
    "        return \"Enjoyable\"\n",
    "    else:\n",
    "        return \"No Opinion\"\n",
    "    "
   ]
  },
  {
   "cell_type": "code",
   "execution_count": 30,
   "metadata": {
    "collapsed": false
   },
   "outputs": [
    {
     "data": {
      "text/plain": [
       "Film\n",
       "A View to a Kill                    Enjoyable\n",
       "Casino Royale                      No Opinion\n",
       "Casino Royale                      No Opinion\n",
       "Diamonds Are Forever               No Opinion\n",
       "Die Another Day                          Best\n",
       "Dr. No                             No Opinion\n",
       "For Your Eyes Only                  Enjoyable\n",
       "From Russia with Love              No Opinion\n",
       "GoldenEye                                Best\n",
       "Goldfinger                         No Opinion\n",
       "Licence to Kill                    No Opinion\n",
       "Live and Let Die                   No Opinion\n",
       "Moonraker                           Enjoyable\n",
       "Never Say Never Again              No Opinion\n",
       "Octopussy                           Enjoyable\n",
       "On Her Majesty's Secret Service    No Opinion\n",
       "Quantum of Solace                  No Opinion\n",
       "Skyfall                            No Opinion\n",
       "Spectre                            No Opinion\n",
       "The Living Daylights               No Opinion\n",
       "The Man with the Golden Gun        No Opinion\n",
       "The Spy Who Loved Me                Enjoyable\n",
       "The World Is Not Enough                  Best\n",
       "Thunderball                        No Opinion\n",
       "Tomorrow Never Dies                      Best\n",
       "You Only Live Twice                No Opinion\n",
       "dtype: object"
      ]
     },
     "execution_count": 30,
     "metadata": {},
     "output_type": "execute_result"
    }
   ],
   "source": [
    "bond.apply(good_movie, axis=\"columns\")"
   ]
  },
  {
   "cell_type": "code",
   "execution_count": null,
   "metadata": {
    "collapsed": true
   },
   "outputs": [],
   "source": []
  }
 ],
 "metadata": {
  "kernelspec": {
   "display_name": "Python 3",
   "language": "python",
   "name": "python3"
  },
  "language_info": {
   "codemirror_mode": {
    "name": "ipython",
    "version": 3
   },
   "file_extension": ".py",
   "mimetype": "text/x-python",
   "name": "python",
   "nbconvert_exporter": "python",
   "pygments_lexer": "ipython3",
   "version": "3.6.1"
  }
 },
 "nbformat": 4,
 "nbformat_minor": 2
}
