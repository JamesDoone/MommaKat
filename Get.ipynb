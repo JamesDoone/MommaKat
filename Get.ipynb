{
 "cells": [
  {
   "cell_type": "code",
   "execution_count": 1,
   "metadata": {
    "collapsed": true
   },
   "outputs": [],
   "source": [
    "import pandas as pd"
   ]
  },
  {
   "cell_type": "code",
   "execution_count": 7,
   "metadata": {
    "collapsed": false
   },
   "outputs": [
    {
     "name": "stdout",
     "output_type": "stream",
     "text": [
      "Baby_Names.xlsx                       employees.csv\r\n",
      "Data - Multiple Worksheets.xlsx       foods.csv\r\n",
      "Data - Single Worksheet.xlsx          fortune1000.csv\r\n",
      "Restaurant - Customers.csv            google_stock_price.csv\r\n",
      "Restaurant - Foods.csv                jamesbond.csv\r\n",
      "Restaurant - Week 1 Sales.csv         nba.csv\r\n",
      "Restaurant - Week 1 Satisfaction.csv  pokemon.csv\r\n",
      "Restaurant - Week 2 Sales.csv         quarters.csv\r\n",
      "bigmac.csv                            revenue.csv\r\n",
      "chicago.csv                           salesmen.csv\r\n",
      "ecommerce.csv                         worldstats.csv\r\n"
     ]
    }
   ],
   "source": [
    "#%cd pandas_data_files/\n",
    "%ls"
   ]
  },
  {
   "cell_type": "code",
   "execution_count": 20,
   "metadata": {
    "collapsed": false
   },
   "outputs": [
    {
     "data": {
      "text/plain": [
       "Country    Date  \n",
       "Argentina  1/2016    2.39\n",
       "Australia  1/2016    3.74\n",
       "Brazil     1/2016    3.35\n",
       "Britain    1/2016    4.22\n",
       "Canada     1/2016    4.14\n",
       "Name: Price in US Dollars, dtype: float64"
      ]
     },
     "execution_count": 20,
     "metadata": {},
     "output_type": "execute_result"
    }
   ],
   "source": [
    "df = pd.read_csv('bigmac.csv', index_col=['Country','Date'], squeeze=True)\n",
    "df.head()"
   ]
  },
  {
   "cell_type": "markdown",
   "metadata": {},
   "source": [
    "##### get() used with a series\n",
    "##### used the 'squeeze=True' argument to convert dataframe into a series\n",
    "##### Country had to be the outer-most index"
   ]
  },
  {
   "cell_type": "code",
   "execution_count": 21,
   "metadata": {
    "collapsed": false
   },
   "outputs": [
    {
     "data": {
      "text/plain": [
       "Date\n",
       "1/2016    3.35\n",
       "7/2015    4.28\n",
       "1/2015    5.21\n",
       "7/2014    5.86\n",
       "1/2014    5.25\n",
       "7/2013    5.28\n",
       "1/2013    5.64\n",
       "7/2012    4.94\n",
       "1/2012    5.68\n",
       "7/2011    6.16\n",
       "7/2010    4.91\n",
       "1/2010    4.76\n",
       "Name: Price in US Dollars, dtype: float64"
      ]
     },
     "execution_count": 21,
     "metadata": {},
     "output_type": "execute_result"
    }
   ],
   "source": [
    "df.get(key = 'Brazil', default='Not Listed')"
   ]
  },
  {
   "cell_type": "markdown",
   "metadata": {},
   "source": [
    "##### get() 2 keys"
   ]
  },
  {
   "cell_type": "code",
   "execution_count": 22,
   "metadata": {
    "collapsed": false
   },
   "outputs": [
    {
     "data": {
      "text/plain": [
       "Country  Date  \n",
       "Brazil   1/2016    3.35\n",
       "         7/2015    4.28\n",
       "         1/2015    5.21\n",
       "         7/2014    5.86\n",
       "         1/2014    5.25\n",
       "         7/2013    5.28\n",
       "         1/2013    5.64\n",
       "         7/2012    4.94\n",
       "         1/2012    5.68\n",
       "         7/2011    6.16\n",
       "         7/2010    4.91\n",
       "         1/2010    4.76\n",
       "Japan    1/2016    3.12\n",
       "         7/2015    2.99\n",
       "         1/2015    3.14\n",
       "         7/2014    3.64\n",
       "         1/2014    2.97\n",
       "         7/2013    3.20\n",
       "         1/2013    3.51\n",
       "         7/2012    4.09\n",
       "         1/2012    4.16\n",
       "         7/2011    4.08\n",
       "         7/2010    3.67\n",
       "         1/2010    3.50\n",
       "Name: Price in US Dollars, dtype: float64"
      ]
     },
     "execution_count": 22,
     "metadata": {},
     "output_type": "execute_result"
    }
   ],
   "source": [
    "df.get(key = ['Brazil', 'Japan'], default = 'Not listed')"
   ]
  },
  {
   "cell_type": "markdown",
   "metadata": {},
   "source": [
    "##### get() to extract an element"
   ]
  },
  {
   "cell_type": "code",
   "execution_count": 24,
   "metadata": {
    "collapsed": false
   },
   "outputs": [
    {
     "data": {
      "text/html": [
       "<div>\n",
       "<table border=\"1\" class=\"dataframe\">\n",
       "  <thead>\n",
       "    <tr style=\"text-align: right;\">\n",
       "      <th></th>\n",
       "      <th>Date</th>\n",
       "      <th>Country</th>\n",
       "      <th>Price in US Dollars</th>\n",
       "    </tr>\n",
       "  </thead>\n",
       "  <tbody>\n",
       "    <tr>\n",
       "      <th>0</th>\n",
       "      <td>1/2016</td>\n",
       "      <td>Argentina</td>\n",
       "      <td>2.39</td>\n",
       "    </tr>\n",
       "    <tr>\n",
       "      <th>1</th>\n",
       "      <td>1/2016</td>\n",
       "      <td>Australia</td>\n",
       "      <td>3.74</td>\n",
       "    </tr>\n",
       "    <tr>\n",
       "      <th>2</th>\n",
       "      <td>1/2016</td>\n",
       "      <td>Brazil</td>\n",
       "      <td>3.35</td>\n",
       "    </tr>\n",
       "    <tr>\n",
       "      <th>3</th>\n",
       "      <td>1/2016</td>\n",
       "      <td>Britain</td>\n",
       "      <td>4.22</td>\n",
       "    </tr>\n",
       "    <tr>\n",
       "      <th>4</th>\n",
       "      <td>1/2016</td>\n",
       "      <td>Canada</td>\n",
       "      <td>4.14</td>\n",
       "    </tr>\n",
       "  </tbody>\n",
       "</table>\n",
       "</div>"
      ],
      "text/plain": [
       "     Date    Country  Price in US Dollars\n",
       "0  1/2016  Argentina                 2.39\n",
       "1  1/2016  Australia                 3.74\n",
       "2  1/2016     Brazil                 3.35\n",
       "3  1/2016    Britain                 4.22\n",
       "4  1/2016     Canada                 4.14"
      ]
     },
     "execution_count": 24,
     "metadata": {},
     "output_type": "execute_result"
    }
   ],
   "source": [
    "bm = pd.read_csv('bigmac.csv')\n",
    "bm.head()"
   ]
  },
  {
   "cell_type": "markdown",
   "metadata": {},
   "source": [
    "##### split() elements into separate elements"
   ]
  },
  {
   "cell_type": "code",
   "execution_count": 27,
   "metadata": {
    "collapsed": false
   },
   "outputs": [
    {
     "data": {
      "text/plain": [
       "0      [1, 2016]\n",
       "1      [1, 2016]\n",
       "2      [1, 2016]\n",
       "3      [1, 2016]\n",
       "4      [1, 2016]\n",
       "5      [1, 2016]\n",
       "6      [1, 2016]\n",
       "7      [1, 2016]\n",
       "8      [1, 2016]\n",
       "9      [1, 2016]\n",
       "10     [1, 2016]\n",
       "11     [1, 2016]\n",
       "12     [1, 2016]\n",
       "13     [1, 2016]\n",
       "14     [1, 2016]\n",
       "15     [1, 2016]\n",
       "16     [1, 2016]\n",
       "17     [1, 2016]\n",
       "18     [1, 2016]\n",
       "19     [1, 2016]\n",
       "20     [1, 2016]\n",
       "21     [1, 2016]\n",
       "22     [1, 2016]\n",
       "23     [1, 2016]\n",
       "24     [1, 2016]\n",
       "25     [1, 2016]\n",
       "26     [1, 2016]\n",
       "27     [1, 2016]\n",
       "28     [1, 2016]\n",
       "29     [1, 2016]\n",
       "         ...    \n",
       "622    [1, 2010]\n",
       "623    [1, 2010]\n",
       "624    [1, 2010]\n",
       "625    [1, 2010]\n",
       "626    [1, 2010]\n",
       "627    [1, 2010]\n",
       "628    [1, 2010]\n",
       "629    [1, 2010]\n",
       "630    [1, 2010]\n",
       "631    [1, 2010]\n",
       "632    [1, 2010]\n",
       "633    [1, 2010]\n",
       "634    [1, 2010]\n",
       "635    [1, 2010]\n",
       "636    [1, 2010]\n",
       "637    [1, 2010]\n",
       "638    [1, 2010]\n",
       "639    [1, 2010]\n",
       "640    [1, 2010]\n",
       "641    [1, 2010]\n",
       "642    [1, 2010]\n",
       "643    [1, 2010]\n",
       "644    [1, 2010]\n",
       "645    [1, 2010]\n",
       "646    [1, 2010]\n",
       "647    [1, 2010]\n",
       "648    [1, 2010]\n",
       "649    [1, 2010]\n",
       "650    [1, 2010]\n",
       "651    [1, 2010]\n",
       "Name: Date, dtype: object"
      ]
     },
     "execution_count": 27,
     "metadata": {},
     "output_type": "execute_result"
    }
   ],
   "source": [
    "bm['Date'] = bm['Date'].str.split('/')\n",
    "bm['Date']"
   ]
  },
  {
   "cell_type": "markdown",
   "metadata": {},
   "source": [
    "##### str() must precede get() when operating on a pandas dataframe\n",
    "##### REMEMBER 0 is the first element"
   ]
  },
  {
   "cell_type": "code",
   "execution_count": 30,
   "metadata": {
    "collapsed": false
   },
   "outputs": [
    {
     "data": {
      "text/plain": [
       "0      2016\n",
       "1      2016\n",
       "2      2016\n",
       "3      2016\n",
       "4      2016\n",
       "5      2016\n",
       "6      2016\n",
       "7      2016\n",
       "8      2016\n",
       "9      2016\n",
       "10     2016\n",
       "11     2016\n",
       "12     2016\n",
       "13     2016\n",
       "14     2016\n",
       "15     2016\n",
       "16     2016\n",
       "17     2016\n",
       "18     2016\n",
       "19     2016\n",
       "20     2016\n",
       "21     2016\n",
       "22     2016\n",
       "23     2016\n",
       "24     2016\n",
       "25     2016\n",
       "26     2016\n",
       "27     2016\n",
       "28     2016\n",
       "29     2016\n",
       "       ... \n",
       "622    2010\n",
       "623    2010\n",
       "624    2010\n",
       "625    2010\n",
       "626    2010\n",
       "627    2010\n",
       "628    2010\n",
       "629    2010\n",
       "630    2010\n",
       "631    2010\n",
       "632    2010\n",
       "633    2010\n",
       "634    2010\n",
       "635    2010\n",
       "636    2010\n",
       "637    2010\n",
       "638    2010\n",
       "639    2010\n",
       "640    2010\n",
       "641    2010\n",
       "642    2010\n",
       "643    2010\n",
       "644    2010\n",
       "645    2010\n",
       "646    2010\n",
       "647    2010\n",
       "648    2010\n",
       "649    2010\n",
       "650    2010\n",
       "651    2010\n",
       "Name: Date, dtype: object"
      ]
     },
     "execution_count": 30,
     "metadata": {},
     "output_type": "execute_result"
    }
   ],
   "source": [
    "bm['Date'].str.get(1)"
   ]
  },
  {
   "cell_type": "code",
   "execution_count": null,
   "metadata": {
    "collapsed": true
   },
   "outputs": [],
   "source": []
  }
 ],
 "metadata": {
  "kernelspec": {
   "display_name": "Python 3",
   "language": "python",
   "name": "python3"
  },
  "language_info": {
   "codemirror_mode": {
    "name": "ipython",
    "version": 3
   },
   "file_extension": ".py",
   "mimetype": "text/x-python",
   "name": "python",
   "nbconvert_exporter": "python",
   "pygments_lexer": "ipython3",
   "version": "3.6.1"
  }
 },
 "nbformat": 4,
 "nbformat_minor": 2
}
