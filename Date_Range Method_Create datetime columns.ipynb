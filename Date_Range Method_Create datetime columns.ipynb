{
 "cells": [
  {
   "cell_type": "code",
   "execution_count": 1,
   "metadata": {
    "collapsed": true
   },
   "outputs": [],
   "source": [
    "import pandas as pd"
   ]
  },
  {
   "cell_type": "markdown",
   "metadata": {},
   "source": [
    "##### Parameters\n",
    "- START\n",
    "- END\n",
    "- FREQ\n",
    "##### To use datetime index pass it thru a series constructor\n",
    "- see below"
   ]
  },
  {
   "cell_type": "code",
   "execution_count": 3,
   "metadata": {
    "collapsed": false
   },
   "outputs": [
    {
     "data": {
      "text/plain": [
       "DatetimeIndex(['1973-02-01', '1973-03-01', '1973-04-01', '1973-05-01',\n",
       "               '1973-06-01', '1973-07-01', '1973-08-01', '1973-09-01'],\n",
       "              dtype='datetime64[ns]', freq='MS')"
      ]
     },
     "execution_count": 3,
     "metadata": {},
     "output_type": "execute_result"
    }
   ],
   "source": [
    "time = pd.date_range(start = \"1973-02-01\", end = \"1973-09-01\", freq=\"MS\")\n",
    "time"
   ]
  },
  {
   "cell_type": "markdown",
   "metadata": {},
   "source": [
    "##### `Datetime index"
   ]
  },
  {
   "cell_type": "code",
   "execution_count": 4,
   "metadata": {
    "collapsed": false
   },
   "outputs": [
    {
     "data": {
      "text/plain": [
       "pandas.core.indexes.datetimes.DatetimeIndex"
      ]
     },
     "execution_count": 4,
     "metadata": {},
     "output_type": "execute_result"
    }
   ],
   "source": [
    "type(time)"
   ]
  },
  {
   "cell_type": "markdown",
   "metadata": {},
   "source": [
    "##### Index into the index"
   ]
  },
  {
   "cell_type": "code",
   "execution_count": 5,
   "metadata": {
    "collapsed": false
   },
   "outputs": [
    {
     "data": {
      "text/plain": [
       "Timestamp('1973-03-01 00:00:00', freq='MS')"
      ]
     },
     "execution_count": 5,
     "metadata": {},
     "output_type": "execute_result"
    }
   ],
   "source": [
    "time[1]"
   ]
  },
  {
   "cell_type": "markdown",
   "metadata": {},
   "source": [
    "##### The freq() argument \n",
    "- D = days\n",
    "- B = Business days\n",
    "- W = week\n",
    "- H = hour\n",
    "- M = Month: returns the end of the month\n",
    "- MS + Month start\n",
    "- A = year end"
   ]
  },
  {
   "cell_type": "code",
   "execution_count": 6,
   "metadata": {
    "collapsed": false
   },
   "outputs": [
    {
     "data": {
      "text/plain": [
       "DatetimeIndex(['1973-02-01', '1973-02-03', '1973-02-05', '1973-02-07',\n",
       "               '1973-02-09', '1973-02-11', '1973-02-13', '1973-02-15',\n",
       "               '1973-02-17', '1973-02-19',\n",
       "               ...\n",
       "               '1973-08-14', '1973-08-16', '1973-08-18', '1973-08-20',\n",
       "               '1973-08-22', '1973-08-24', '1973-08-26', '1973-08-28',\n",
       "               '1973-08-30', '1973-09-01'],\n",
       "              dtype='datetime64[ns]', length=107, freq='2D')"
      ]
     },
     "execution_count": 6,
     "metadata": {},
     "output_type": "execute_result"
    }
   ],
   "source": [
    "time = pd.date_range(start = \"1973-02-01\", end = \"1973-09-01\", freq=\"2D\")\n",
    "time"
   ]
  },
  {
   "cell_type": "code",
   "execution_count": 7,
   "metadata": {
    "collapsed": false
   },
   "outputs": [
    {
     "data": {
      "text/plain": [
       "DatetimeIndex(['1973-02-01', '1973-02-02', '1973-02-05', '1973-02-06',\n",
       "               '1973-02-07', '1973-02-08', '1973-02-09', '1973-02-12',\n",
       "               '1973-02-13', '1973-02-14',\n",
       "               ...\n",
       "               '1973-08-20', '1973-08-21', '1973-08-22', '1973-08-23',\n",
       "               '1973-08-24', '1973-08-27', '1973-08-28', '1973-08-29',\n",
       "               '1973-08-30', '1973-08-31'],\n",
       "              dtype='datetime64[ns]', length=152, freq='B')"
      ]
     },
     "execution_count": 7,
     "metadata": {},
     "output_type": "execute_result"
    }
   ],
   "source": [
    "time = pd.date_range(start = \"1973-02-01\", end = \"1973-09-01\", freq=\"B\")\n",
    "time"
   ]
  },
  {
   "cell_type": "markdown",
   "metadata": {},
   "source": [
    "##### Iincrements of 6 hours = 6H"
   ]
  },
  {
   "cell_type": "code",
   "execution_count": 8,
   "metadata": {
    "collapsed": false
   },
   "outputs": [
    {
     "data": {
      "text/plain": [
       "DatetimeIndex(['1973-02-01 00:00:00', '1973-02-01 06:00:00',\n",
       "               '1973-02-01 12:00:00', '1973-02-01 18:00:00',\n",
       "               '1973-02-02 00:00:00', '1973-02-02 06:00:00',\n",
       "               '1973-02-02 12:00:00', '1973-02-02 18:00:00',\n",
       "               '1973-02-03 00:00:00', '1973-02-03 06:00:00',\n",
       "               ...\n",
       "               '1973-08-29 18:00:00', '1973-08-30 00:00:00',\n",
       "               '1973-08-30 06:00:00', '1973-08-30 12:00:00',\n",
       "               '1973-08-30 18:00:00', '1973-08-31 00:00:00',\n",
       "               '1973-08-31 06:00:00', '1973-08-31 12:00:00',\n",
       "               '1973-08-31 18:00:00', '1973-09-01 00:00:00'],\n",
       "              dtype='datetime64[ns]', length=849, freq='6H')"
      ]
     },
     "execution_count": 8,
     "metadata": {},
     "output_type": "execute_result"
    }
   ],
   "source": [
    "time = pd.date_range(start = \"1973-02-01\", end = \"1973-09-01\", freq=\"6H\")\n",
    "time"
   ]
  },
  {
   "cell_type": "markdown",
   "metadata": {},
   "source": [
    "##### Periods parameter\n",
    "- the periods parameter will create x number of periods of the freq = type parameter"
   ]
  },
  {
   "cell_type": "code",
   "execution_count": 9,
   "metadata": {
    "collapsed": false
   },
   "outputs": [
    {
     "data": {
      "text/plain": [
       "DatetimeIndex(['1973-02-01', '1973-02-02', '1973-02-03', '1973-02-04',\n",
       "               '1973-02-05', '1973-02-06', '1973-02-07', '1973-02-08',\n",
       "               '1973-02-09', '1973-02-10', '1973-02-11', '1973-02-12',\n",
       "               '1973-02-13', '1973-02-14', '1973-02-15', '1973-02-16',\n",
       "               '1973-02-17', '1973-02-18', '1973-02-19', '1973-02-20',\n",
       "               '1973-02-21', '1973-02-22', '1973-02-23', '1973-02-24',\n",
       "               '1973-02-25'],\n",
       "              dtype='datetime64[ns]', freq='D')"
      ]
     },
     "execution_count": 9,
     "metadata": {},
     "output_type": "execute_result"
    }
   ],
   "source": [
    "pd.date_range(start = \"1973-02-01\", periods= 25, freq=\"D\")"
   ]
  },
  {
   "cell_type": "markdown",
   "metadata": {},
   "source": [
    "##### If freq = B  and periods = 25, the datetime index will skip non-business days"
   ]
  },
  {
   "cell_type": "code",
   "execution_count": 10,
   "metadata": {
    "collapsed": false
   },
   "outputs": [
    {
     "data": {
      "text/plain": [
       "DatetimeIndex(['2000-01-03', '2000-01-04', '2000-01-05', '2000-01-06',\n",
       "               '2000-01-07', '2000-01-10', '2000-01-11', '2000-01-12',\n",
       "               '2000-01-13', '2000-01-14', '2000-01-17', '2000-01-18',\n",
       "               '2000-01-19', '2000-01-20', '2000-01-21', '2000-01-24',\n",
       "               '2000-01-25', '2000-01-26', '2000-01-27', '2000-01-28',\n",
       "               '2000-01-31', '2000-02-01', '2000-02-02', '2000-02-03',\n",
       "               '2000-02-04', '2000-02-07', '2000-02-08', '2000-02-09',\n",
       "               '2000-02-10', '2000-02-11', '2000-02-14', '2000-02-15',\n",
       "               '2000-02-16', '2000-02-17', '2000-02-18', '2000-02-21',\n",
       "               '2000-02-22', '2000-02-23', '2000-02-24', '2000-02-25',\n",
       "               '2000-02-28', '2000-02-29', '2000-03-01', '2000-03-02',\n",
       "               '2000-03-03', '2000-03-06', '2000-03-07', '2000-03-08',\n",
       "               '2000-03-09', '2000-03-10'],\n",
       "              dtype='datetime64[ns]', freq='B')"
      ]
     },
     "execution_count": 10,
     "metadata": {},
     "output_type": "execute_result"
    }
   ],
   "source": [
    "pd.date_range(start = \"2000-01-01\", periods=50, freq='B')"
   ]
  },
  {
   "cell_type": "markdown",
   "metadata": {},
   "source": [
    "###### Seconds"
   ]
  },
  {
   "cell_type": "code",
   "execution_count": 14,
   "metadata": {
    "collapsed": false
   },
   "outputs": [
    {
     "data": {
      "text/plain": [
       "DatetimeIndex(['2000-01-01 00:00:00', '2000-01-01 00:00:01',\n",
       "               '2000-01-01 00:00:02', '2000-01-01 00:00:03',\n",
       "               '2000-01-01 00:00:04', '2000-01-01 00:00:05',\n",
       "               '2000-01-01 00:00:06', '2000-01-01 00:00:07',\n",
       "               '2000-01-01 00:00:08', '2000-01-01 00:00:09',\n",
       "               '2000-01-01 00:00:10', '2000-01-01 00:00:11',\n",
       "               '2000-01-01 00:00:12', '2000-01-01 00:00:13',\n",
       "               '2000-01-01 00:00:14', '2000-01-01 00:00:15',\n",
       "               '2000-01-01 00:00:16', '2000-01-01 00:00:17',\n",
       "               '2000-01-01 00:00:18', '2000-01-01 00:00:19',\n",
       "               '2000-01-01 00:00:20', '2000-01-01 00:00:21',\n",
       "               '2000-01-01 00:00:22', '2000-01-01 00:00:23',\n",
       "               '2000-01-01 00:00:24', '2000-01-01 00:00:25',\n",
       "               '2000-01-01 00:00:26', '2000-01-01 00:00:27',\n",
       "               '2000-01-01 00:00:28', '2000-01-01 00:00:29',\n",
       "               '2000-01-01 00:00:30', '2000-01-01 00:00:31',\n",
       "               '2000-01-01 00:00:32', '2000-01-01 00:00:33',\n",
       "               '2000-01-01 00:00:34', '2000-01-01 00:00:35',\n",
       "               '2000-01-01 00:00:36', '2000-01-01 00:00:37',\n",
       "               '2000-01-01 00:00:38', '2000-01-01 00:00:39',\n",
       "               '2000-01-01 00:00:40', '2000-01-01 00:00:41',\n",
       "               '2000-01-01 00:00:42', '2000-01-01 00:00:43',\n",
       "               '2000-01-01 00:00:44', '2000-01-01 00:00:45',\n",
       "               '2000-01-01 00:00:46', '2000-01-01 00:00:47',\n",
       "               '2000-01-01 00:00:48', '2000-01-01 00:00:49'],\n",
       "              dtype='datetime64[ns]', freq='S')"
      ]
     },
     "execution_count": 14,
     "metadata": {},
     "output_type": "execute_result"
    }
   ],
   "source": [
    "seconds = pd.date_range(start = \"2000-01-01\", periods=50, freq='s')\n",
    "seconds"
   ]
  },
  {
   "cell_type": "code",
   "execution_count": 16,
   "metadata": {
    "collapsed": false
   },
   "outputs": [
    {
     "data": {
      "text/plain": [
       "DatetimeIndex(['2000-01-01', '2000-01-02', '2000-01-03', '2000-01-04',\n",
       "               '2000-01-05', '2000-01-06', '2000-01-07', '2000-01-08',\n",
       "               '2000-01-09', '2000-01-10', '2000-01-11', '2000-01-12',\n",
       "               '2000-01-13', '2000-01-14', '2000-01-15', '2000-01-16',\n",
       "               '2000-01-17', '2000-01-18', '2000-01-19', '2000-01-20',\n",
       "               '2000-01-21', '2000-01-22', '2000-01-23', '2000-01-24',\n",
       "               '2000-01-25', '2000-01-26', '2000-01-27', '2000-01-28',\n",
       "               '2000-01-29', '2000-01-30', '2000-01-31', '2000-02-01',\n",
       "               '2000-02-02', '2000-02-03', '2000-02-04', '2000-02-05',\n",
       "               '2000-02-06', '2000-02-07', '2000-02-08', '2000-02-09',\n",
       "               '2000-02-10', '2000-02-11', '2000-02-12', '2000-02-13',\n",
       "               '2000-02-14', '2000-02-15', '2000-02-16', '2000-02-17',\n",
       "               '2000-02-18', '2000-02-19'],\n",
       "              dtype='datetime64[ns]', freq='D')"
      ]
     },
     "execution_count": 16,
     "metadata": {},
     "output_type": "execute_result"
    }
   ],
   "source": [
    "days = pd.date_range(start = \"2000-01-01\", periods=50, freq='D')\n",
    "days"
   ]
  },
  {
   "cell_type": "markdown",
   "metadata": {},
   "source": [
    "##### dt. accessor\n",
    "##### to use the st. accessor, the date_range object must be passed in a Series"
   ]
  },
  {
   "cell_type": "code",
   "execution_count": 18,
   "metadata": {
    "collapsed": true
   },
   "outputs": [],
   "source": [
    "days = pd.Series(days)"
   ]
  },
  {
   "cell_type": "code",
   "execution_count": 19,
   "metadata": {
    "collapsed": false
   },
   "outputs": [
    {
     "data": {
      "text/plain": [
       "0      1\n",
       "1      2\n",
       "2      3\n",
       "3      4\n",
       "4      5\n",
       "5      6\n",
       "6      7\n",
       "7      8\n",
       "8      9\n",
       "9     10\n",
       "10    11\n",
       "11    12\n",
       "12    13\n",
       "13    14\n",
       "14    15\n",
       "15    16\n",
       "16    17\n",
       "17    18\n",
       "18    19\n",
       "19    20\n",
       "20    21\n",
       "21    22\n",
       "22    23\n",
       "23    24\n",
       "24    25\n",
       "25    26\n",
       "26    27\n",
       "27    28\n",
       "28    29\n",
       "29    30\n",
       "30    31\n",
       "31     1\n",
       "32     2\n",
       "33     3\n",
       "34     4\n",
       "35     5\n",
       "36     6\n",
       "37     7\n",
       "38     8\n",
       "39     9\n",
       "40    10\n",
       "41    11\n",
       "42    12\n",
       "43    13\n",
       "44    14\n",
       "45    15\n",
       "46    16\n",
       "47    17\n",
       "48    18\n",
       "49    19\n",
       "dtype: int64"
      ]
     },
     "execution_count": 19,
     "metadata": {},
     "output_type": "execute_result"
    }
   ],
   "source": [
    "days.dt.day"
   ]
  },
  {
   "cell_type": "markdown",
   "metadata": {},
   "source": [
    "##### dt.weekday_name return the name of the week day"
   ]
  },
  {
   "cell_type": "code",
   "execution_count": 20,
   "metadata": {
    "collapsed": false
   },
   "outputs": [
    {
     "data": {
      "text/plain": [
       "0      Saturday\n",
       "1        Sunday\n",
       "2        Monday\n",
       "3       Tuesday\n",
       "4     Wednesday\n",
       "5      Thursday\n",
       "6        Friday\n",
       "7      Saturday\n",
       "8        Sunday\n",
       "9        Monday\n",
       "10      Tuesday\n",
       "11    Wednesday\n",
       "12     Thursday\n",
       "13       Friday\n",
       "14     Saturday\n",
       "15       Sunday\n",
       "16       Monday\n",
       "17      Tuesday\n",
       "18    Wednesday\n",
       "19     Thursday\n",
       "20       Friday\n",
       "21     Saturday\n",
       "22       Sunday\n",
       "23       Monday\n",
       "24      Tuesday\n",
       "25    Wednesday\n",
       "26     Thursday\n",
       "27       Friday\n",
       "28     Saturday\n",
       "29       Sunday\n",
       "30       Monday\n",
       "31      Tuesday\n",
       "32    Wednesday\n",
       "33     Thursday\n",
       "34       Friday\n",
       "35     Saturday\n",
       "36       Sunday\n",
       "37       Monday\n",
       "38      Tuesday\n",
       "39    Wednesday\n",
       "40     Thursday\n",
       "41       Friday\n",
       "42     Saturday\n",
       "43       Sunday\n",
       "44       Monday\n",
       "45      Tuesday\n",
       "46    Wednesday\n",
       "47     Thursday\n",
       "48       Friday\n",
       "49     Saturday\n",
       "dtype: object"
      ]
     },
     "execution_count": 20,
     "metadata": {},
     "output_type": "execute_result"
    }
   ],
   "source": [
    "days.dt.weekday_name"
   ]
  },
  {
   "cell_type": "markdown",
   "metadata": {},
   "source": [
    "##### is_quarter start returns a boolean"
   ]
  },
  {
   "cell_type": "code",
   "execution_count": 21,
   "metadata": {
    "collapsed": false
   },
   "outputs": [
    {
     "data": {
      "text/plain": [
       "0      True\n",
       "1     False\n",
       "2     False\n",
       "3     False\n",
       "4     False\n",
       "5     False\n",
       "6     False\n",
       "7     False\n",
       "8     False\n",
       "9     False\n",
       "10    False\n",
       "11    False\n",
       "12    False\n",
       "13    False\n",
       "14    False\n",
       "15    False\n",
       "16    False\n",
       "17    False\n",
       "18    False\n",
       "19    False\n",
       "20    False\n",
       "21    False\n",
       "22    False\n",
       "23    False\n",
       "24    False\n",
       "25    False\n",
       "26    False\n",
       "27    False\n",
       "28    False\n",
       "29    False\n",
       "30    False\n",
       "31    False\n",
       "32    False\n",
       "33    False\n",
       "34    False\n",
       "35    False\n",
       "36    False\n",
       "37    False\n",
       "38    False\n",
       "39    False\n",
       "40    False\n",
       "41    False\n",
       "42    False\n",
       "43    False\n",
       "44    False\n",
       "45    False\n",
       "46    False\n",
       "47    False\n",
       "48    False\n",
       "49    False\n",
       "dtype: bool"
      ]
     },
     "execution_count": 21,
     "metadata": {},
     "output_type": "execute_result"
    }
   ],
   "source": [
    "days.dt.is_quarter_start"
   ]
  },
  {
   "cell_type": "code",
   "execution_count": null,
   "metadata": {
    "collapsed": true
   },
   "outputs": [],
   "source": []
  }
 ],
 "metadata": {
  "kernelspec": {
   "display_name": "Python 3",
   "language": "python",
   "name": "python3"
  },
  "language_info": {
   "codemirror_mode": {
    "name": "ipython",
    "version": 3
   },
   "file_extension": ".py",
   "mimetype": "text/x-python",
   "name": "python",
   "nbconvert_exporter": "python",
   "pygments_lexer": "ipython3",
   "version": "3.6.1"
  }
 },
 "nbformat": 4,
 "nbformat_minor": 2
}
